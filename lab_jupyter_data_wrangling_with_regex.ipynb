{
  "cells": [
    {
      "cell_type": "markdown",
      "metadata": {
        "id": "Yd9odO8VIv2J"
      },
      "source": [
        "<a href=\"https://cognitiveclass.ai/?utm_medium=Exinfluencer&utm_source=Exinfluencer&utm_content=000026UJ&utm_term=10006555&utm_id=NA-SkillsNetwork-Channel-SkillsNetworkCoursesIBMDeveloperSkillsNetworkRP0321ENSkillsNetwork25371262-2022-01-01\">\n",
        "    <img src=\"https://cf-courses-data.s3.us.cloud-object-storage.appdomain.cloud/IBMDeveloperSkillsNetwork-RP0101EN-Coursera/v2/M1_R_Basics/images/IDSNlogo.png\" width=\"200\" align=\"center\">\n",
        "</a>\n"
      ]
    },
    {
      "cell_type": "markdown",
      "metadata": {
        "id": "9KP7cSnRIv2L"
      },
      "source": [
        "<h1>Data Wrangling with Regular Expressions</h1>\n",
        "\n",
        "Estimated time needed: **40** minutes\n"
      ]
    },
    {
      "cell_type": "markdown",
      "metadata": {
        "id": "CYzL8D0gIv2M"
      },
      "source": [
        "## Lab Overview:\n",
        "\n",
        "In the previous data collection labs, you collected some raw datasets from several different sources. In this lab, you need to perform data wrangling tasks in order to improve data quality.\n"
      ]
    },
    {
      "cell_type": "markdown",
      "metadata": {
        "id": "3ojtyudSIv2M"
      },
      "source": [
        "You will again use regular expressions, along with the `stringr` package (part of `tidyverse`), to clean up the bike-sharing systems data that you previously web scraped from the wiki page:\n",
        "\n",
        "[https://en.wikipedia.org/wiki/List_of_bicycle-sharing_systems](https://en.wikipedia.org/wiki/List_of_bicycle-sharing_systems?utm_medium=Exinfluencer&utm_source=Exinfluencer&utm_content=000026UJ&utm_term=10006555&utm_id=NA-SkillsNetwork-Channel-SkillsNetworkCoursesIBMDeveloperSkillsNetworkRP0321ENSkillsNetwork25371262-2022-01-01)\n",
        "\n",
        "<a href=\"https://cognitiveclass.ai/?utm_medium=Exinfluencer&utm_source=Exinfluencer&utm_content=000026UJ&utm_term=10006555&utm_id=NA-SkillsNetwork-Channel-SkillsNetworkCoursesIBMDeveloperSkillsNetworkRP0321ENSkillsNetwork25371262-2022-01-01\">\n",
        "    <img src=\"https://cf-courses-data.s3.us.cloud-object-storage.appdomain.cloud/IBMDeveloperSkillsNetwork-RP0321EN-SkillsNetwork/labs/module_1/images/l2-list-bike-sharing-systems.png\" width=\"800\" align=\"center\">\n",
        "</a>\n"
      ]
    },
    {
      "cell_type": "markdown",
      "metadata": {
        "id": "1ROD82QSIv2M"
      },
      "source": [
        "One typical challenge of web scraping is that data extracted from HTML pages may contain unnecessary or inconsistently fomatted information.\\\n",
        "For example:\n",
        "\n",
        "*   Textual annotations in numeric fields: `1000 (Updated with 1050)`\n",
        "*   Attached reference links: `Bike sharing system [123]`\n",
        "*   Inconsistent data formats: `Yes` and `Y` for the logical value `TRUE` or `2021-04-09` and `Apr 09, 2021` for the same date\n",
        "*   HTML style tags: `<span style=\"color:blue\">Bike sharing system</span>`\n",
        "*   Special characters: `&nbsp` for a white space\n",
        "\n",
        "Many more such examples of noise may be encountered in real-world scraped data and most of such text related noises could be handled by regular expressions.\n"
      ]
    },
    {
      "cell_type": "markdown",
      "metadata": {
        "id": "iXjK8ReBIv2N"
      },
      "source": [
        "To summarize, you will be using `stringr` (part of `tidyverse`) and regular expressions to perform the following data wrangling tasks:\n",
        "\n",
        "*   TASK: Standardize column names for all collected datasets\n",
        "*   TASK: Remove undesired reference links from the scraped bike-sharing systems dataset\n",
        "*   TASK: Extract only the numeric value from undesired text annotations\n"
      ]
    },
    {
      "cell_type": "markdown",
      "metadata": {
        "id": "GbBcr5W7Iv2N"
      },
      "source": [
        "Let's begin by importing the libraries you will use for these data wrangling tasks.\n"
      ]
    },
    {
      "cell_type": "code",
      "execution_count": null,
      "metadata": {
        "id": "rA8rTh0KIv2N",
        "colab": {
          "base_uri": "https://localhost:8080/"
        },
        "outputId": "91580f52-724d-4251-b08f-dc87b7a2d94e"
      },
      "outputs": [
        {
          "output_type": "stream",
          "name": "stderr",
          "text": [
            "Loading required package: tidyverse\n",
            "\n",
            "Warning message in system(\"timedatectl\", intern = TRUE):\n",
            "“running command 'timedatectl' had status 1”\n",
            "── \u001b[1mAttaching packages\u001b[22m ─────────────────────────────────────── tidyverse 1.3.1 ──\n",
            "\n",
            "\u001b[32m✔\u001b[39m \u001b[34mggplot2\u001b[39m 3.3.6     \u001b[32m✔\u001b[39m \u001b[34mpurrr  \u001b[39m 0.3.4\n",
            "\u001b[32m✔\u001b[39m \u001b[34mtibble \u001b[39m 3.1.7     \u001b[32m✔\u001b[39m \u001b[34mdplyr  \u001b[39m 1.0.9\n",
            "\u001b[32m✔\u001b[39m \u001b[34mtidyr  \u001b[39m 1.2.0     \u001b[32m✔\u001b[39m \u001b[34mstringr\u001b[39m 1.4.0\n",
            "\u001b[32m✔\u001b[39m \u001b[34mreadr  \u001b[39m 2.1.2     \u001b[32m✔\u001b[39m \u001b[34mforcats\u001b[39m 0.5.1\n",
            "\n",
            "── \u001b[1mConflicts\u001b[22m ────────────────────────────────────────── tidyverse_conflicts() ──\n",
            "\u001b[31m✖\u001b[39m \u001b[34mdplyr\u001b[39m::\u001b[32mfilter()\u001b[39m masks \u001b[34mstats\u001b[39m::filter()\n",
            "\u001b[31m✖\u001b[39m \u001b[34mdplyr\u001b[39m::\u001b[32mlag()\u001b[39m    masks \u001b[34mstats\u001b[39m::lag()\n",
            "\n"
          ]
        }
      ],
      "source": [
        "# Check whether you need to install the `tidyverse` library\n",
        "require(\"tidyverse\")\n",
        "library(tidyverse)"
      ]
    },
    {
      "cell_type": "markdown",
      "metadata": {
        "id": "AW5AhQbDIv2Z"
      },
      "source": [
        "## TASK: Standardize column names for all collected datasets\n"
      ]
    },
    {
      "cell_type": "markdown",
      "metadata": {
        "id": "r-H8dBkzIv2a"
      },
      "source": [
        "In the previous data collection labs, you collected four datasets in csv format:\n",
        "\n",
        "*   `raw_bike_sharing_systems.csv`:  A list of active bike-sharing systems across the world\n",
        "*   `raw_cities_weather_forecast.csv`: 5-day weather forecasts for a list of cities, from OpenWeather API\n",
        "*   `raw_worldcities.csv`: A list of major cities' info (such as name, latitude and longitude) across the world\n",
        "*   `raw_seoul_bike_sharing.csv`: Weather information (Temperature, Humidity, Windspeed, Visibility, Dewpoint, Solar radiation, Snowfall, Rainfall), the number of bikes rented per hour, and date information, from Seoul bike-sharing systems\n"
      ]
    },
    {
      "cell_type": "markdown",
      "metadata": {
        "id": "GsVlZx7SIv2a"
      },
      "source": [
        "*Optional:* If you had some difficulties finishing the data collection labs, you may download the datasets directly from the following URLs:\n"
      ]
    },
    {
      "cell_type": "code",
      "execution_count": null,
      "metadata": {
        "id": "wWusN2oRIv2a"
      },
      "outputs": [],
      "source": [
        "# Download raw_bike_sharing_systems.csv\n",
        "url <- \"https://cf-courses-data.s3.us.cloud-object-storage.appdomain.cloud/IBMDeveloperSkillsNetwork-RP0321EN-SkillsNetwork/labs/datasets/raw_bike_sharing_systems.csv\"\n",
        "download.file(url, destfile = \"raw_bike_sharing_systems.csv\")\n",
        "\n",
        "# Download raw_cities_weather_forecast.csv\n",
        "url <- \"https://cf-courses-data.s3.us.cloud-object-storage.appdomain.cloud/IBMDeveloperSkillsNetwork-RP0321EN-SkillsNetwork/labs/datasets/raw_cities_weather_forecast.csv\"\n",
        "download.file(url, destfile = \"raw_cities_weather_forecast.csv\")\n",
        "\n",
        "# Download raw_worldcities.csv\n",
        "url <- \"https://cf-courses-data.s3.us.cloud-object-storage.appdomain.cloud/IBMDeveloperSkillsNetwork-RP0321EN-SkillsNetwork/labs/datasets/raw_worldcities.csv\"\n",
        "download.file(url, destfile = \"raw_worldcities.csv\")\n",
        "\n",
        "# Download raw_seoul_bike_sharing.csv\n",
        "url <- \"https://cf-courses-data.s3.us.cloud-object-storage.appdomain.cloud/IBMDeveloperSkillsNetwork-RP0321EN-SkillsNetwork/labs/datasets/raw_seoul_bike_sharing.csv\"\n",
        "download.file(url, destfile = \"raw_seoul_bike_sharing.csv\")"
      ]
    },
    {
      "cell_type": "markdown",
      "metadata": {
        "id": "guA6htSiIv2a"
      },
      "source": [
        "To improve dataset readbility by both human and computer systems, we first need to standardize the column names of the datasets above using the following naming convention:\n",
        "\n",
        "*   Column names need to be UPPERCASE\n",
        "*   The word separator needs to be an underscore, such as in `COLUMN_NAME`\n"
      ]
    },
    {
      "cell_type": "markdown",
      "metadata": {
        "id": "Ae70OfuLIv2b"
      },
      "source": [
        "You can use the following dataset list and the `names()` function to get and set each of their column names, and convert them according to our defined naming convention.\n"
      ]
    },
    {
      "cell_type": "code",
      "execution_count": null,
      "metadata": {
        "id": "oMAE6IoNIv2b"
      },
      "outputs": [],
      "source": [
        "dataset_list <- c('raw_bike_sharing_systems.csv', 'raw_seoul_bike_sharing.csv', 'raw_cities_weather_forecast.csv', 'raw_worldcities.csv')\n"
      ]
    },
    {
      "cell_type": "markdown",
      "metadata": {
        "id": "Vb6F1BSwIv2b"
      },
      "source": [
        "*TODO*: Write a `for` loop to iterate over the above datasets and convert their column names\n"
      ]
    },
    {
      "cell_type": "code",
      "execution_count": null,
      "metadata": {
        "id": "JXlYwuqZIv2b",
        "colab": {
          "base_uri": "https://localhost:8080/"
        },
        "outputId": "5e9c63b8-8905-4012-8f5f-b2c4bfa68d92"
      },
      "outputs": [
        {
          "output_type": "stream",
          "name": "stderr",
          "text": [
            "\u001b[1mRows: \u001b[22m\u001b[34m480\u001b[39m \u001b[1mColumns: \u001b[22m\u001b[34m10\u001b[39m\n",
            "\u001b[36m──\u001b[39m \u001b[1mColumn specification\u001b[22m \u001b[36m────────────────────────────────────────────────────────\u001b[39m\n",
            "\u001b[1mDelimiter:\u001b[22m \",\"\n",
            "\u001b[31mchr\u001b[39m (10): COUNTRY, CITY, NAME, SYSTEM, OPERATOR, LAUNCHED, DISCONTINUED, STA...\n",
            "\n",
            "\u001b[36mℹ\u001b[39m Use `spec()` to retrieve the full column specification for this data.\n",
            "\u001b[36mℹ\u001b[39m Specify the column types or set `show_col_types = FALSE` to quiet this message.\n",
            "Warning message in stri_replace_all_regex(string, pattern, fix_replacement(replacement), :\n",
            "“argument is not an atomic vector; coercing”\n",
            "\u001b[1mRows: \u001b[22m\u001b[34m480\u001b[39m \u001b[1mColumns: \u001b[22m\u001b[34m10\u001b[39m\n",
            "\u001b[36m──\u001b[39m \u001b[1mColumn specification\u001b[22m \u001b[36m────────────────────────────────────────────────────────\u001b[39m\n",
            "\u001b[1mDelimiter:\u001b[22m \",\"\n",
            "\u001b[31mchr\u001b[39m (10): COUNTRY, CITY, NAME, SYSTEM, OPERATOR, LAUNCHED, DISCONTINUED, STA...\n",
            "\n",
            "\u001b[36mℹ\u001b[39m Use `spec()` to retrieve the full column specification for this data.\n",
            "\u001b[36mℹ\u001b[39m Specify the column types or set `show_col_types = FALSE` to quiet this message.\n",
            "Warning message in stri_replace_all_regex(string, pattern, fix_replacement(replacement), :\n",
            "“argument is not an atomic vector; coercing”\n",
            "\u001b[1mRows: \u001b[22m\u001b[34m480\u001b[39m \u001b[1mColumns: \u001b[22m\u001b[34m10\u001b[39m\n",
            "\u001b[36m──\u001b[39m \u001b[1mColumn specification\u001b[22m \u001b[36m────────────────────────────────────────────────────────\u001b[39m\n",
            "\u001b[1mDelimiter:\u001b[22m \",\"\n",
            "\u001b[31mchr\u001b[39m (10): COUNTRY, CITY, NAME, SYSTEM, OPERATOR, LAUNCHED, DISCONTINUED, STA...\n",
            "\n",
            "\u001b[36mℹ\u001b[39m Use `spec()` to retrieve the full column specification for this data.\n",
            "\u001b[36mℹ\u001b[39m Specify the column types or set `show_col_types = FALSE` to quiet this message.\n",
            "Warning message in stri_replace_all_regex(string, pattern, fix_replacement(replacement), :\n",
            "“argument is not an atomic vector; coercing”\n",
            "\u001b[1mRows: \u001b[22m\u001b[34m480\u001b[39m \u001b[1mColumns: \u001b[22m\u001b[34m10\u001b[39m\n",
            "\u001b[36m──\u001b[39m \u001b[1mColumn specification\u001b[22m \u001b[36m────────────────────────────────────────────────────────\u001b[39m\n",
            "\u001b[1mDelimiter:\u001b[22m \",\"\n",
            "\u001b[31mchr\u001b[39m (10): COUNTRY, CITY, NAME, SYSTEM, OPERATOR, LAUNCHED, DISCONTINUED, STA...\n",
            "\n",
            "\u001b[36mℹ\u001b[39m Use `spec()` to retrieve the full column specification for this data.\n",
            "\u001b[36mℹ\u001b[39m Specify the column types or set `show_col_types = FALSE` to quiet this message.\n",
            "Warning message in stri_replace_all_regex(string, pattern, fix_replacement(replacement), :\n",
            "“argument is not an atomic vector; coercing”\n"
          ]
        }
      ],
      "source": [
        "for (bikesharing_dataset in dataset_list){\n",
        "    # Read dataset\n",
        "    dataset <- read_csv(\"raw_bike_sharing_systems.csv\")\n",
        "    # Standardized its columns:\n",
        "    bikesharing_dataset <- as.data.frame(dataset)\n",
        "    #Convert all column names to uppercase\n",
        "      names(bikesharing_dataset)<- toupper(names(bikesharing_dataset))\n",
        "   # Replace any white space separators by underscores, using the str_replace_all function\n",
        "      str_replace_all(bikesharing_dataset, \" \", \"_\")\n",
        "    # Save the dataset \n",
        "    write.csv(bikesharing_dataset, \"raw_bike_sharing_systems.csv\", row.names=FALSE)    \n",
        "}\n"
      ]
    },
    {
      "cell_type": "code",
      "source": [
        "for (bike_dataset in dataset_list){\n",
        "    # Read dataset\n",
        "    dataset_1 <- read_csv(\"raw_seoul_bike_sharing.csv\")\n",
        "    # Standardized its columns:\n",
        "    bike_dataset <- as.data.frame(dataset_1)\n",
        "    #Convert all column names to uppercase\n",
        "      names(bike_dataset)<- toupper(names(bike_dataset))\n",
        "   # Replace any white space separators by underscores, using the str_replace_all function\n",
        "      str_replace_all(bike_dataset, \" \", \"_\")\n",
        "    # Save the dataset \n",
        "    write.csv(bike_dataset, \"raw_seoul_bike_sharing.csv\", row.names=FALSE)    \n",
        "}\n"
      ],
      "metadata": {
        "colab": {
          "base_uri": "https://localhost:8080/"
        },
        "id": "FSK0G_v7XI2Z",
        "outputId": "7deced14-402c-4efa-945f-127007577673"
      },
      "execution_count": null,
      "outputs": [
        {
          "output_type": "stream",
          "name": "stderr",
          "text": [
            "\u001b[1mRows: \u001b[22m\u001b[34m8760\u001b[39m \u001b[1mColumns: \u001b[22m\u001b[34m14\u001b[39m\n",
            "\u001b[36m──\u001b[39m \u001b[1mColumn specification\u001b[22m \u001b[36m────────────────────────────────────────────────────────\u001b[39m\n",
            "\u001b[1mDelimiter:\u001b[22m \",\"\n",
            "\u001b[31mchr\u001b[39m  (4): Date, SEASONS, HOLIDAY, FUNCTIONING_DAY\n",
            "\u001b[32mdbl\u001b[39m (10): RENTED_BIKE_COUNT, Hour, TEMPERATURE, HUMIDITY, WIND_SPEED, Visibi...\n",
            "\n",
            "\u001b[36mℹ\u001b[39m Use `spec()` to retrieve the full column specification for this data.\n",
            "\u001b[36mℹ\u001b[39m Specify the column types or set `show_col_types = FALSE` to quiet this message.\n",
            "Warning message in stri_replace_all_regex(string, pattern, fix_replacement(replacement), :\n",
            "“argument is not an atomic vector; coercing”\n",
            "\u001b[1mRows: \u001b[22m\u001b[34m8760\u001b[39m \u001b[1mColumns: \u001b[22m\u001b[34m14\u001b[39m\n",
            "\u001b[36m──\u001b[39m \u001b[1mColumn specification\u001b[22m \u001b[36m────────────────────────────────────────────────────────\u001b[39m\n",
            "\u001b[1mDelimiter:\u001b[22m \",\"\n",
            "\u001b[31mchr\u001b[39m  (4): DATE, SEASONS, HOLIDAY, FUNCTIONING_DAY\n",
            "\u001b[32mdbl\u001b[39m (10): RENTED_BIKE_COUNT, HOUR, TEMPERATURE, HUMIDITY, WIND_SPEED, VISIBI...\n",
            "\n",
            "\u001b[36mℹ\u001b[39m Use `spec()` to retrieve the full column specification for this data.\n",
            "\u001b[36mℹ\u001b[39m Specify the column types or set `show_col_types = FALSE` to quiet this message.\n",
            "Warning message in stri_replace_all_regex(string, pattern, fix_replacement(replacement), :\n",
            "“argument is not an atomic vector; coercing”\n",
            "\u001b[1mRows: \u001b[22m\u001b[34m8760\u001b[39m \u001b[1mColumns: \u001b[22m\u001b[34m14\u001b[39m\n",
            "\u001b[36m──\u001b[39m \u001b[1mColumn specification\u001b[22m \u001b[36m────────────────────────────────────────────────────────\u001b[39m\n",
            "\u001b[1mDelimiter:\u001b[22m \",\"\n",
            "\u001b[31mchr\u001b[39m  (4): DATE, SEASONS, HOLIDAY, FUNCTIONING_DAY\n",
            "\u001b[32mdbl\u001b[39m (10): RENTED_BIKE_COUNT, HOUR, TEMPERATURE, HUMIDITY, WIND_SPEED, VISIBI...\n",
            "\n",
            "\u001b[36mℹ\u001b[39m Use `spec()` to retrieve the full column specification for this data.\n",
            "\u001b[36mℹ\u001b[39m Specify the column types or set `show_col_types = FALSE` to quiet this message.\n",
            "Warning message in stri_replace_all_regex(string, pattern, fix_replacement(replacement), :\n",
            "“argument is not an atomic vector; coercing”\n",
            "\u001b[1mRows: \u001b[22m\u001b[34m8760\u001b[39m \u001b[1mColumns: \u001b[22m\u001b[34m14\u001b[39m\n",
            "\u001b[36m──\u001b[39m \u001b[1mColumn specification\u001b[22m \u001b[36m────────────────────────────────────────────────────────\u001b[39m\n",
            "\u001b[1mDelimiter:\u001b[22m \",\"\n",
            "\u001b[31mchr\u001b[39m  (4): DATE, SEASONS, HOLIDAY, FUNCTIONING_DAY\n",
            "\u001b[32mdbl\u001b[39m (10): RENTED_BIKE_COUNT, HOUR, TEMPERATURE, HUMIDITY, WIND_SPEED, VISIBI...\n",
            "\n",
            "\u001b[36mℹ\u001b[39m Use `spec()` to retrieve the full column specification for this data.\n",
            "\u001b[36mℹ\u001b[39m Specify the column types or set `show_col_types = FALSE` to quiet this message.\n",
            "Warning message in stri_replace_all_regex(string, pattern, fix_replacement(replacement), :\n",
            "“argument is not an atomic vector; coercing”\n"
          ]
        }
      ]
    },
    {
      "cell_type": "code",
      "source": [
        "for ( weather_dataset in dataset_list){\n",
        "    # Read dataset\n",
        "    dataset_2 <- read_csv(\"raw_cities_weather_forecast.csv\")\n",
        "    # Standardized its columns:\n",
        "    weather_dataset <- as.data.frame(dataset_2)\n",
        "    #Convert all column names to uppercase\n",
        "      names(weather_dataset)<- toupper(names(weather_dataset))\n",
        "   # Replace any white space separators by underscores, using the str_replace_all function\n",
        "      str_replace_all(weather_dataset, \" \", \"_\")\n",
        "    # Save the dataset \n",
        "    write.csv(weather_dataset, \"raw_cities_weather_forecast.csv\", row.names=FALSE)    \n",
        "}\n"
      ],
      "metadata": {
        "colab": {
          "base_uri": "https://localhost:8080/"
        },
        "id": "MhbAk-8RXtVB",
        "outputId": "28da1729-eb1d-4499-ed81-8ec54c340bfe"
      },
      "execution_count": null,
      "outputs": [
        {
          "output_type": "stream",
          "name": "stderr",
          "text": [
            "\u001b[1mRows: \u001b[22m\u001b[34m160\u001b[39m \u001b[1mColumns: \u001b[22m\u001b[34m12\u001b[39m\n",
            "\u001b[36m──\u001b[39m \u001b[1mColumn specification\u001b[22m \u001b[36m────────────────────────────────────────────────────────\u001b[39m\n",
            "\u001b[1mDelimiter:\u001b[22m \",\"\n",
            "\u001b[31mchr\u001b[39m  (3): city, weather, season\n",
            "\u001b[32mdbl\u001b[39m  (8): visibility, temp, temp_min, temp_max, pressure, humidity, wind_spe...\n",
            "\u001b[34mdttm\u001b[39m (1): forecast_datetime\n",
            "\n",
            "\u001b[36mℹ\u001b[39m Use `spec()` to retrieve the full column specification for this data.\n",
            "\u001b[36mℹ\u001b[39m Specify the column types or set `show_col_types = FALSE` to quiet this message.\n",
            "Warning message in stri_replace_all_regex(string, pattern, fix_replacement(replacement), :\n",
            "“argument is not an atomic vector; coercing”\n",
            "\u001b[1mRows: \u001b[22m\u001b[34m160\u001b[39m \u001b[1mColumns: \u001b[22m\u001b[34m12\u001b[39m\n",
            "\u001b[36m──\u001b[39m \u001b[1mColumn specification\u001b[22m \u001b[36m────────────────────────────────────────────────────────\u001b[39m\n",
            "\u001b[1mDelimiter:\u001b[22m \",\"\n",
            "\u001b[31mchr\u001b[39m  (3): CITY, WEATHER, SEASON\n",
            "\u001b[32mdbl\u001b[39m  (8): VISIBILITY, TEMP, TEMP_MIN, TEMP_MAX, PRESSURE, HUMIDITY, WIND_SPE...\n",
            "\u001b[34mdttm\u001b[39m (1): FORECAST_DATETIME\n",
            "\n",
            "\u001b[36mℹ\u001b[39m Use `spec()` to retrieve the full column specification for this data.\n",
            "\u001b[36mℹ\u001b[39m Specify the column types or set `show_col_types = FALSE` to quiet this message.\n",
            "Warning message in stri_replace_all_regex(string, pattern, fix_replacement(replacement), :\n",
            "“argument is not an atomic vector; coercing”\n",
            "\u001b[1mRows: \u001b[22m\u001b[34m160\u001b[39m \u001b[1mColumns: \u001b[22m\u001b[34m12\u001b[39m\n",
            "\u001b[36m──\u001b[39m \u001b[1mColumn specification\u001b[22m \u001b[36m────────────────────────────────────────────────────────\u001b[39m\n",
            "\u001b[1mDelimiter:\u001b[22m \",\"\n",
            "\u001b[31mchr\u001b[39m  (3): CITY, WEATHER, SEASON\n",
            "\u001b[32mdbl\u001b[39m  (8): VISIBILITY, TEMP, TEMP_MIN, TEMP_MAX, PRESSURE, HUMIDITY, WIND_SPE...\n",
            "\u001b[34mdttm\u001b[39m (1): FORECAST_DATETIME\n",
            "\n",
            "\u001b[36mℹ\u001b[39m Use `spec()` to retrieve the full column specification for this data.\n",
            "\u001b[36mℹ\u001b[39m Specify the column types or set `show_col_types = FALSE` to quiet this message.\n",
            "Warning message in stri_replace_all_regex(string, pattern, fix_replacement(replacement), :\n",
            "“argument is not an atomic vector; coercing”\n",
            "\u001b[1mRows: \u001b[22m\u001b[34m160\u001b[39m \u001b[1mColumns: \u001b[22m\u001b[34m12\u001b[39m\n",
            "\u001b[36m──\u001b[39m \u001b[1mColumn specification\u001b[22m \u001b[36m────────────────────────────────────────────────────────\u001b[39m\n",
            "\u001b[1mDelimiter:\u001b[22m \",\"\n",
            "\u001b[31mchr\u001b[39m  (3): CITY, WEATHER, SEASON\n",
            "\u001b[32mdbl\u001b[39m  (8): VISIBILITY, TEMP, TEMP_MIN, TEMP_MAX, PRESSURE, HUMIDITY, WIND_SPE...\n",
            "\u001b[34mdttm\u001b[39m (1): FORECAST_DATETIME\n",
            "\n",
            "\u001b[36mℹ\u001b[39m Use `spec()` to retrieve the full column specification for this data.\n",
            "\u001b[36mℹ\u001b[39m Specify the column types or set `show_col_types = FALSE` to quiet this message.\n",
            "Warning message in stri_replace_all_regex(string, pattern, fix_replacement(replacement), :\n",
            "“argument is not an atomic vector; coercing”\n"
          ]
        }
      ]
    },
    {
      "cell_type": "code",
      "source": [
        "for ( worldcities_dataset in dataset_list){\n",
        "    # Read dataset\n",
        "    dataset_3 <- read_csv(\"raw_worldcities.csv\")\n",
        "    # Standardized its columns:\n",
        "    worldcities_dataset <- as.data.frame(dataset_3)\n",
        "    #Convert all column names to uppercase\n",
        "      names(worldcities_dataset)<- toupper(names(worldcities_dataset))\n",
        "   # Replace any white space separators by underscores, using the str_replace_all function\n",
        "      str_replace_all(worldcities_dataset, \" \", \"_\")\n",
        "    # Save the dataset \n",
        "    write.csv(worldcities_dataset, \"raw_worldcities.csv\", row.names=FALSE)    \n",
        "}"
      ],
      "metadata": {
        "colab": {
          "base_uri": "https://localhost:8080/"
        },
        "id": "avD_Y6smYBGp",
        "outputId": "63a7d8b2-04da-4c99-8aaf-4ca33170e2c5"
      },
      "execution_count": null,
      "outputs": [
        {
          "output_type": "stream",
          "name": "stderr",
          "text": [
            "\u001b[1mRows: \u001b[22m\u001b[34m26569\u001b[39m \u001b[1mColumns: \u001b[22m\u001b[34m11\u001b[39m\n",
            "\u001b[36m──\u001b[39m \u001b[1mColumn specification\u001b[22m \u001b[36m────────────────────────────────────────────────────────\u001b[39m\n",
            "\u001b[1mDelimiter:\u001b[22m \",\"\n",
            "\u001b[31mchr\u001b[39m (7): CITY, CITY_ASCII, COUNTRY, ISO2, ISO3, ADMIN_NAME, CAPITAL\n",
            "\u001b[32mdbl\u001b[39m (4): LAT, LNG, POPULATION, ID\n",
            "\n",
            "\u001b[36mℹ\u001b[39m Use `spec()` to retrieve the full column specification for this data.\n",
            "\u001b[36mℹ\u001b[39m Specify the column types or set `show_col_types = FALSE` to quiet this message.\n",
            "Warning message in stri_replace_all_regex(string, pattern, fix_replacement(replacement), :\n",
            "“argument is not an atomic vector; coercing”\n",
            "\u001b[1mRows: \u001b[22m\u001b[34m26569\u001b[39m \u001b[1mColumns: \u001b[22m\u001b[34m11\u001b[39m\n",
            "\u001b[36m──\u001b[39m \u001b[1mColumn specification\u001b[22m \u001b[36m────────────────────────────────────────────────────────\u001b[39m\n",
            "\u001b[1mDelimiter:\u001b[22m \",\"\n",
            "\u001b[31mchr\u001b[39m (7): CITY, CITY_ASCII, COUNTRY, ISO2, ISO3, ADMIN_NAME, CAPITAL\n",
            "\u001b[32mdbl\u001b[39m (4): LAT, LNG, POPULATION, ID\n",
            "\n",
            "\u001b[36mℹ\u001b[39m Use `spec()` to retrieve the full column specification for this data.\n",
            "\u001b[36mℹ\u001b[39m Specify the column types or set `show_col_types = FALSE` to quiet this message.\n",
            "Warning message in stri_replace_all_regex(string, pattern, fix_replacement(replacement), :\n",
            "“argument is not an atomic vector; coercing”\n",
            "\u001b[1mRows: \u001b[22m\u001b[34m26569\u001b[39m \u001b[1mColumns: \u001b[22m\u001b[34m11\u001b[39m\n",
            "\u001b[36m──\u001b[39m \u001b[1mColumn specification\u001b[22m \u001b[36m────────────────────────────────────────────────────────\u001b[39m\n",
            "\u001b[1mDelimiter:\u001b[22m \",\"\n",
            "\u001b[31mchr\u001b[39m (7): CITY, CITY_ASCII, COUNTRY, ISO2, ISO3, ADMIN_NAME, CAPITAL\n",
            "\u001b[32mdbl\u001b[39m (4): LAT, LNG, POPULATION, ID\n",
            "\n",
            "\u001b[36mℹ\u001b[39m Use `spec()` to retrieve the full column specification for this data.\n",
            "\u001b[36mℹ\u001b[39m Specify the column types or set `show_col_types = FALSE` to quiet this message.\n",
            "Warning message in stri_replace_all_regex(string, pattern, fix_replacement(replacement), :\n",
            "“argument is not an atomic vector; coercing”\n",
            "\u001b[1mRows: \u001b[22m\u001b[34m26569\u001b[39m \u001b[1mColumns: \u001b[22m\u001b[34m11\u001b[39m\n",
            "\u001b[36m──\u001b[39m \u001b[1mColumn specification\u001b[22m \u001b[36m────────────────────────────────────────────────────────\u001b[39m\n",
            "\u001b[1mDelimiter:\u001b[22m \",\"\n",
            "\u001b[31mchr\u001b[39m (7): CITY, CITY_ASCII, COUNTRY, ISO2, ISO3, ADMIN_NAME, CAPITAL\n",
            "\u001b[32mdbl\u001b[39m (4): LAT, LNG, POPULATION, ID\n",
            "\n",
            "\u001b[36mℹ\u001b[39m Use `spec()` to retrieve the full column specification for this data.\n",
            "\u001b[36mℹ\u001b[39m Specify the column types or set `show_col_types = FALSE` to quiet this message.\n",
            "Warning message in stri_replace_all_regex(string, pattern, fix_replacement(replacement), :\n",
            "“argument is not an atomic vector; coercing”\n"
          ]
        }
      ]
    },
    {
      "cell_type": "markdown",
      "metadata": {
        "id": "MEroJb6rIv2b"
      },
      "source": [
        "*TODO*: Read the resulting datasets back and check whether their column names follow the naming convention\n"
      ]
    },
    {
      "cell_type": "code",
      "execution_count": null,
      "metadata": {
        "id": "hHOlqb3eIv2b",
        "colab": {
          "base_uri": "https://localhost:8080/",
          "height": 1000
        },
        "outputId": "f3eff772-a9d4-40b5-ec67-2eb8988b57da"
      },
      "outputs": [
        {
          "output_type": "display_data",
          "data": {
            "text/plain": [
              "   COUNTRY              CITY               NAME              SYSTEM         \n",
              " Length:480         Length:480         Length:480         Length:480        \n",
              " Class :character   Class :character   Class :character   Class :character  \n",
              " Mode  :character   Mode  :character   Mode  :character   Mode  :character  \n",
              "   OPERATOR           LAUNCHED         DISCONTINUED         STATIONS        \n",
              " Length:480         Length:480         Length:480         Length:480        \n",
              " Class :character   Class :character   Class :character   Class :character  \n",
              " Mode  :character   Mode  :character   Mode  :character   Mode  :character  \n",
              "   BICYCLES         DAILY_RIDERSHIP   \n",
              " Length:480         Length:480        \n",
              " Class :character   Class :character  \n",
              " Mode  :character   Mode  :character  "
            ]
          },
          "metadata": {}
        },
        {
          "output_type": "display_data",
          "data": {
            "text/plain": [
              "     DATE           RENTED_BIKE_COUNT      HOUR        TEMPERATURE    \n",
              " Length:8760        Min.   :   2.0    Min.   : 0.00   Min.   :-17.80  \n",
              " Class :character   1st Qu.: 214.0    1st Qu.: 5.75   1st Qu.:  3.40  \n",
              " Mode  :character   Median : 542.0    Median :11.50   Median : 13.70  \n",
              "                    Mean   : 729.2    Mean   :11.50   Mean   : 12.87  \n",
              "                    3rd Qu.:1084.0    3rd Qu.:17.25   3rd Qu.: 22.50  \n",
              "                    Max.   :3556.0    Max.   :23.00   Max.   : 39.40  \n",
              "                    NA's   :295                       NA's   :11      \n",
              "    HUMIDITY       WIND_SPEED      VISIBILITY   DEW_POINT_TEMPERATURE\n",
              " Min.   : 0.00   Min.   :0.000   Min.   :  27   Min.   :-30.600      \n",
              " 1st Qu.:42.00   1st Qu.:0.900   1st Qu.: 940   1st Qu.: -4.700      \n",
              " Median :57.00   Median :1.500   Median :1698   Median :  5.100      \n",
              " Mean   :58.23   Mean   :1.725   Mean   :1437   Mean   :  4.074      \n",
              " 3rd Qu.:74.00   3rd Qu.:2.300   3rd Qu.:2000   3rd Qu.: 14.800      \n",
              " Max.   :98.00   Max.   :7.400   Max.   :2000   Max.   : 27.200      \n",
              "                                                                     \n",
              " SOLAR_RADIATION     RAINFALL          SNOWFALL         SEASONS         \n",
              " Min.   :0.0000   Min.   : 0.0000   Min.   :0.00000   Length:8760       \n",
              " 1st Qu.:0.0000   1st Qu.: 0.0000   1st Qu.:0.00000   Class :character  \n",
              " Median :0.0100   Median : 0.0000   Median :0.00000   Mode  :character  \n",
              " Mean   :0.5691   Mean   : 0.1487   Mean   :0.07507                     \n",
              " 3rd Qu.:0.9300   3rd Qu.: 0.0000   3rd Qu.:0.00000                     \n",
              " Max.   :3.5200   Max.   :35.0000   Max.   :8.80000                     \n",
              "                                                                        \n",
              "   HOLIDAY          FUNCTIONING_DAY   \n",
              " Length:8760        Length:8760       \n",
              " Class :character   Class :character  \n",
              " Mode  :character   Mode  :character  \n",
              "                                      \n",
              "                                      \n",
              "                                      \n",
              "                                      "
            ]
          },
          "metadata": {}
        },
        {
          "output_type": "display_data",
          "data": {
            "text/plain": [
              "     CITY             WEATHER            VISIBILITY         TEMP       \n",
              " Length:160         Length:160         Min.   : 9940   Min.   : 3.810  \n",
              " Class :character   Class :character   1st Qu.:10000   1st Qu.: 9.748  \n",
              " Mode  :character   Mode  :character   Median :10000   Median :12.765  \n",
              "                                       Mean   :10000   Mean   :13.505  \n",
              "                                       3rd Qu.:10000   3rd Qu.:16.747  \n",
              "                                       Max.   :10000   Max.   :26.130  \n",
              "    TEMP_MIN         TEMP_MAX         PRESSURE       HUMIDITY    \n",
              " Min.   : 3.810   Min.   : 3.810   Min.   : 954   Min.   :17.00  \n",
              " 1st Qu.: 9.725   1st Qu.: 9.953   1st Qu.:1016   1st Qu.:37.00  \n",
              " Median :12.765   Median :12.765   Median :1019   Median :49.00  \n",
              " Mean   :13.444   Mean   :13.539   Mean   :1018   Mean   :49.92  \n",
              " 3rd Qu.:16.635   3rd Qu.:16.977   3rd Qu.:1022   3rd Qu.:62.00  \n",
              " Max.   :26.130   Max.   :26.130   Max.   :1028   Max.   :94.00  \n",
              "   WIND_SPEED       WIND_DEG        SEASON         \n",
              " Min.   :0.180   Min.   :  2.0   Length:160        \n",
              " 1st Qu.:1.455   1st Qu.: 92.0   Class :character  \n",
              " Median :2.130   Median :141.0   Mode  :character  \n",
              " Mean   :2.778   Mean   :163.7                     \n",
              " 3rd Qu.:3.723   3rd Qu.:256.8                     \n",
              " Max.   :8.180   Max.   :352.0                     \n",
              " FORECAST_DATETIME            \n",
              " Min.   :2021-04-16 12:00:00  \n",
              " 1st Qu.:2021-04-17 17:15:00  \n",
              " Median :2021-04-18 22:30:00  \n",
              " Mean   :2021-04-18 22:30:00  \n",
              " 3rd Qu.:2021-04-20 03:45:00  \n",
              " Max.   :2021-04-21 09:00:00  "
            ]
          },
          "metadata": {}
        },
        {
          "output_type": "display_data",
          "data": {
            "text/plain": [
              "     CITY            CITY_ASCII             LAT              LNG           \n",
              " Length:26569       Length:26569       Min.   :-54.93   Min.   :-179.5900  \n",
              " Class :character   Class :character   1st Qu.: 27.92   1st Qu.: -78.7794  \n",
              " Mode  :character   Mode  :character   Median : 40.22   Median :  -0.7689  \n",
              "                                       Mean   : 33.10   Mean   : -11.3639  \n",
              "                                       3rd Qu.: 47.99   3rd Qu.:  29.6833  \n",
              "                                       Max.   : 81.72   Max.   : 179.3667  \n",
              "                                                                           \n",
              "   COUNTRY              ISO2               ISO3            ADMIN_NAME       \n",
              " Length:26569       Length:26569       Length:26569       Length:26569      \n",
              " Class :character   Class :character   Class :character   Class :character  \n",
              " Mode  :character   Mode  :character   Mode  :character   Mode  :character  \n",
              "                                                                            \n",
              "                                                                            \n",
              "                                                                            \n",
              "                                                                            \n",
              "   CAPITAL            POPULATION             ID           \n",
              " Length:26569       Min.   :       0   Min.   :1.004e+09  \n",
              " Class :character   1st Qu.:    9246   1st Qu.:1.277e+09  \n",
              " Mode  :character   Median :   20080   Median :1.643e+09  \n",
              "                    Mean   :  162346   Mean   :1.556e+09  \n",
              "                    3rd Qu.:   59369   3rd Qu.:1.840e+09  \n",
              "                    Max.   :37977000   Max.   :1.934e+09  \n",
              "                    NA's   :973                           "
            ]
          },
          "metadata": {}
        }
      ],
      "source": [
        "\n",
        "    # Print a summary for each data set to check whether the column names were correctly converted\n",
        "    summary(bikesharing_dataset)\n",
        "\n",
        "    summary(bike_dataset)\n",
        "\n",
        "    summary (weather_dataset)\n",
        "    \n",
        "    summary(worldcities_dataset)"
      ]
    },
    {
      "cell_type": "markdown",
      "metadata": {
        "id": "OMApTZstIv2c"
      },
      "source": [
        "## Process the web-scraped bike sharing system dataset\n"
      ]
    },
    {
      "cell_type": "markdown",
      "metadata": {
        "id": "FAa6ejhqIv2c"
      },
      "source": [
        "By now we have standardized all column names. Next, we will focus on cleaning up the values in the web-scraped bike sharing systems dataset.\n"
      ]
    },
    {
      "cell_type": "code",
      "execution_count": null,
      "metadata": {
        "colab": {
          "base_uri": "https://localhost:8080/",
          "height": 97
        },
        "id": "23xexvrHIv2c",
        "outputId": "8c115aa1-e2e9-41bf-b4d1-639195f110c4"
      },
      "outputs": [
        {
          "output_type": "error",
          "ename": "ERROR",
          "evalue": "ignored",
          "traceback": [
            "Error in read_csv(\"raw_bike_sharing_systems.csv\"): could not find function \"read_csv\"\nTraceback:\n"
          ]
        }
      ],
      "source": [
        "# First load the dataset\n",
        "bike_sharing_df <- read_csv(\"raw_bike_sharing_systems.csv\")"
      ]
    },
    {
      "cell_type": "code",
      "execution_count": null,
      "metadata": {
        "id": "cAtKqeoUIv2c"
      },
      "outputs": [],
      "source": [
        "# Print its head\n",
        "head(bike_sharing_df)"
      ]
    },
    {
      "cell_type": "markdown",
      "metadata": {
        "id": "WDBTUZ6MIv2c"
      },
      "source": [
        "Even from the first few rows, you can see there is plenty of undesireable embedded textual content, such as the reference link included in `Melbourne[12]`.\n"
      ]
    },
    {
      "cell_type": "markdown",
      "metadata": {
        "id": "4GtmYrTPIv2c"
      },
      "source": [
        "In this project, let's only focus on processing the following revelant columns (feel free to process the other columns for more practice):\n",
        "\n",
        "*   `COUNTRY`: Country name\n",
        "*   `CITY`: City name\n",
        "*   `SYSTEM`: Bike-sharing system name\n",
        "*   `BICYCLES`: Total number of bikes in the system\n"
      ]
    },
    {
      "cell_type": "code",
      "execution_count": null,
      "metadata": {
        "id": "nSzqmY-pIv2d"
      },
      "outputs": [],
      "source": [
        "# Select the four columns\n",
        "sub_bike_sharing_df <- bike_sharing_df %>% select(COUNTRY, CITY, SYSTEM, BICYCLES)"
      ]
    },
    {
      "cell_type": "markdown",
      "metadata": {
        "id": "oY5mX10WIv2d"
      },
      "source": [
        "Let's see the types of the selected columns\n"
      ]
    },
    {
      "cell_type": "code",
      "execution_count": null,
      "metadata": {
        "id": "60s3T-zEIv2d"
      },
      "outputs": [],
      "source": [
        "sub_bike_sharing_df %>% \n",
        "    summarize_all(class) %>%\n",
        "    gather(variable, class)"
      ]
    },
    {
      "cell_type": "markdown",
      "metadata": {
        "id": "e9HzdXvOIv2d"
      },
      "source": [
        "They are all interpreted as character columns, but we expect the `BICYCLES` column to be of numeric type. Let's see why it wasn't loaded as a numeric column - possibly some entries contain characters. Let's create a simple function called `find_character` to check that.\n"
      ]
    },
    {
      "cell_type": "code",
      "execution_count": null,
      "metadata": {
        "id": "XBjvak2LIv2d"
      },
      "outputs": [],
      "source": [
        "# grepl searches a string for non-digital characters, and returns TRUE or FALSE\n",
        "# if it finds any non-digital characters, then the bicyle column is not purely numeric\n",
        "find_character <- function(strings) grepl(\"[^0-9]\", strings)"
      ]
    },
    {
      "cell_type": "markdown",
      "metadata": {
        "id": "VYesVkuMIv2d"
      },
      "source": [
        "Let's try to find any elements in the `Bicycles` column containing non-numeric characters.\n"
      ]
    },
    {
      "cell_type": "code",
      "execution_count": null,
      "metadata": {
        "id": "Zxpn1CZZIv2d"
      },
      "outputs": [],
      "source": [
        "sub_bike_sharing_df %>% \n",
        "    select(BICYCLES) %>% \n",
        "    filter(find_character(BICYCLES)) %>%\n",
        "    slice(0:10)"
      ]
    },
    {
      "cell_type": "markdown",
      "metadata": {
        "id": "zEzQ1ayfIv2d"
      },
      "source": [
        "As you can see, many rows have non-numeric characters, such as `32 (including 6 rollers) [162]` and `1000[253]`. This is actually very common for a table scraped from Wiki when no input validation is enforced.\n",
        "\n",
        "Later, you will use regular expressions to clean them up.\n"
      ]
    },
    {
      "cell_type": "markdown",
      "metadata": {
        "id": "sNX1_X-QIv2d"
      },
      "source": [
        "Next, let's take a look at the other columns, namely `COUNTRY`, `CITY`, and `SYSTEM`, to see if they contain any undesired reference links, such as in `Melbourne[12]`.\n"
      ]
    },
    {
      "cell_type": "code",
      "execution_count": null,
      "metadata": {
        "id": "iV7YzRqpIv2e"
      },
      "outputs": [],
      "source": [
        "# Define a 'reference link' character class, \n",
        "# `[A-z0-9]` means at least one character \n",
        "# `\\\\[` and `\\\\]` means the character is wrapped by [], such as for [12] or [abc]\n",
        "ref_pattern <- \"\\\\[[A-z0-9]+\\\\]\"\n",
        "find_reference_pattern <- function(strings) grepl(ref_pattern, strings)"
      ]
    },
    {
      "cell_type": "code",
      "execution_count": null,
      "metadata": {
        "id": "Re01B0gFIv2e"
      },
      "outputs": [],
      "source": [
        "# Check whether the COUNTRY column has any reference links\n",
        "sub_bike_sharing_df %>% \n",
        "    select(COUNTRY) %>% \n",
        "    filter(find_reference_pattern(COUNTRY)) %>%\n",
        "    slice(0:10)"
      ]
    },
    {
      "cell_type": "markdown",
      "metadata": {
        "id": "tq4nm3YEIv2e"
      },
      "source": [
        "Ok, looks like the `COUNTRY` column is clean. Let's check the `CITY` column.\n"
      ]
    },
    {
      "cell_type": "code",
      "execution_count": null,
      "metadata": {
        "id": "QNlRiwIbIv2e"
      },
      "outputs": [],
      "source": [
        "# Check whether the CITY column has any reference links\n",
        "sub_bike_sharing_df %>% \n",
        "    select(CITY) %>% \n",
        "    filter(find_reference_pattern(CITY)) %>%\n",
        "    slice(0:10)"
      ]
    },
    {
      "cell_type": "markdown",
      "metadata": {
        "id": "DIJa22EqIv2e"
      },
      "source": [
        "Hmm, looks like the `CITY` column has some reference links to be removed. Next, let's check the `SYSTEM` column.\n"
      ]
    },
    {
      "cell_type": "code",
      "execution_count": null,
      "metadata": {
        "id": "sD_ktBssIv2e"
      },
      "outputs": [],
      "source": [
        "# Check whether the System column has any reference links\n",
        "sub_bike_sharing_df %>% \n",
        "    select(SYSTEM) %>% \n",
        "    filter(find_reference_pattern(SYSTEM)) %>%\n",
        "    slice(0:10)"
      ]
    },
    {
      "cell_type": "markdown",
      "metadata": {
        "id": "NVQV3u3rIv2e"
      },
      "source": [
        "So the `SYSTEM` column also has some reference links.\n"
      ]
    },
    {
      "cell_type": "markdown",
      "metadata": {
        "id": "MACjt2dCIv2e"
      },
      "source": [
        "After some preliminary investigations, we identified that the `CITY` and `SYSTEM` columns have some undesired reference links, and the `BICYCLES` column has both reference links and some\n",
        "textual annotations.\n",
        "\n",
        "Next, you need to use regular expressions to clean up the unexpected reference links and text annotations in numeric values.\n"
      ]
    },
    {
      "cell_type": "markdown",
      "metadata": {
        "id": "25mRe6mmIv2f"
      },
      "source": [
        "# TASK: Remove undesired reference links using regular expressions\n"
      ]
    },
    {
      "cell_type": "markdown",
      "metadata": {
        "id": "ICqAZ8PMIv2f"
      },
      "source": [
        "*TODO:* Write a custom function using `stringr::str_replace_all` to replace all reference links with an empty character for columns `CITY` and `SYSTEM`\n"
      ]
    },
    {
      "cell_type": "code",
      "execution_count": null,
      "metadata": {
        "id": "62lyfj-gIv2f",
        "colab": {
          "base_uri": "https://localhost:8080/",
          "height": 139
        },
        "outputId": "9bfeaa42-6251-40d9-db6c-b45e2a9b6737"
      },
      "outputs": [
        {
          "output_type": "display_data",
          "data": {
            "text/html": [
              "<pre class=language-r><code>function (column) \n",
              "{\n",
              "<span style=white-space:pre-wrap>    ref_pattern &lt;- \"\\\\[[\\\\w]+\\\\\"</span>\n",
              "<span style=white-space:pre-wrap>    result &lt;- str_replace_all(column, ref_pattern, \" \")</span>\n",
              "<span style=white-space:pre-wrap>    result &lt;- trimws(result)</span>\n",
              "<span style=white-space:pre-wrap>    return(result)</span>\n",
              "}</code></pre>"
            ],
            "text/markdown": "```r\nfunction (column) \n{\n    ref_pattern <- \"\\\\[[\\\\w]+\\\\\"\n    result <- str_replace_all(column, ref_pattern, \" \")\n    result <- trimws(result)\n    return(result)\n}\n```",
            "text/latex": "\\begin{minted}{r}\nfunction (column) \n\\{\n    ref\\_pattern <- \"\\textbackslash{}\\textbackslash{}{[}{[}\\textbackslash{}\\textbackslash{}w{]}+\\textbackslash{}\\textbackslash{}\"\n    result <- str\\_replace\\_all(column, ref\\_pattern, \" \")\n    result <- trimws(result)\n    return(result)\n\\}\n\\end{minted}",
            "text/plain": [
              "function(column) {\n",
              "    ref_pattern <- \"\\\\[[\\\\w]+\\\\\"\n",
              "    # Replace all matched substrings with a white space using str_replace_all()\n",
              "    result <-  str_replace_all(column, ref_pattern, \" \")\n",
              "    # Trim the reslt if you want\n",
              "    result<- trimws(result)\n",
              "    # return(result)\n",
              "    return(result)\n",
              "}"
            ]
          },
          "metadata": {}
        }
      ],
      "source": [
        "# remove reference link\n",
        "remove_ref <- function(column) {\n",
        "    ref_pattern <- \"\\\\[[\\\\w]+\\\\\"\n",
        "    # Replace all matched substrings with a white space using str_replace_all()\n",
        "    result <-  str_replace_all(column, ref_pattern, \" \")\n",
        "    # Trim the reslt if you want\n",
        "    result<- trimws(result)\n",
        "    # return(result)\n",
        "    return(result)\n",
        "}\n",
        "remove_ref"
      ]
    },
    {
      "cell_type": "markdown",
      "metadata": {
        "id": "Xqke0uKKIv2f"
      },
      "source": [
        "*TODO:* Use the `dplyr::mutate()` function to apply the `remove_ref` function to the `CITY` and `SYSTEM` columns\n"
      ]
    },
    {
      "cell_type": "code",
      "execution_count": null,
      "metadata": {
        "id": "zTbE0nPAIv2f",
        "colab": {
          "base_uri": "https://localhost:8080/",
          "height": 1000
        },
        "outputId": "3a0e6459-ce79-4734-a109-5d6b9571ee42"
      },
      "outputs": [
        {
          "output_type": "error",
          "ename": "ERROR",
          "evalue": "ignored",
          "traceback": [
            "\u001b[1m\u001b[33mError\u001b[39m in \u001b[1m\u001b[1m`mutate()`:\u001b[22m\n\u001b[1m\u001b[22m\u001b[33m!\u001b[39m Problem while computing `CITY = remove_ref(CITY)`.\n\u001b[1mCaused by error in \u001b[1m\u001b[1m`stri_replace_all_regex()`:\u001b[22m\n\u001b[33m!\u001b[39m Unrecognized backslash escape sequence in pattern. (U_REGEX_BAD_ESCAPE_SEQUENCE, context=`\\[[\\w]+\\`)\nTraceback:\n",
            "1. bikesharing_dataset %>% mutate(CITY = remove_ref(CITY), SYSTEM = remove_ref(SYSTEM))",
            "2. mutate(., CITY = remove_ref(CITY), SYSTEM = remove_ref(SYSTEM))",
            "3. mutate.data.frame(., CITY = remove_ref(CITY), SYSTEM = remove_ref(SYSTEM))",
            "4. mutate_cols(.data, dplyr_quosures(...), caller_env = caller_env())",
            "5. withCallingHandlers({\n .     for (i in seq_along(dots)) {\n .         context_poke(\"column\", old_current_column)\n .         quosures <- expand_across(dots[[i]])\n .         quosures_results <- vector(mode = \"list\", length = length(quosures))\n .         for (k in seq_along(quosures)) {\n .             quo <- quosures[[k]]\n .             quo_data <- attr(quo, \"dplyr:::data\")\n .             if (!is.null(quo_data$column)) {\n .                 context_poke(\"column\", quo_data$column)\n .             }\n .             chunks <- NULL\n .             result <- NULL\n .             if (quo_is_symbol(quo)) {\n .                 name <- as_string(quo_get_expr(quo))\n .                 if (name %in% names(new_columns)) {\n .                   result <- new_columns[[name]]\n .                   chunks <- mask$resolve(name)\n .                 }\n .                 else if (name %in% names(.data)) {\n .                   result <- .data[[name]]\n .                   chunks <- mask$resolve(name)\n .                 }\n .                 if (inherits(.data, \"rowwise_df\") && vec_is_list(result)) {\n .                   sizes <- list_sizes(result)\n .                   wrong <- which(sizes != 1)\n .                   if (length(wrong)) {\n .                     group <- wrong[1L]\n .                     mask$set_current_group(group)\n .                     abort(class = c(\"dplyr:::mutate_incompatible_size\", \n .                       \"dplyr:::internal_error\"), dplyr_error_data = list(result_size = sizes[group], \n .                       expected_size = 1))\n .                   }\n .                 }\n .             }\n .             else if (!quo_is_symbolic(quo) && !is.null(quo_get_expr(quo))) {\n .                 result <- quo_get_expr(quo)\n .                 result <- withCallingHandlers(vec_recycle(result, \n .                   vec_size(.data)), error = function(cnd) {\n .                   abort(class = c(\"dplyr:::mutate_constant_recycle_error\", \n .                     \"dplyr:::internal_error\"), constant_size = vec_size(result), \n .                     data_size = vec_size(.data))\n .                 })\n .                 chunks <- vec_chop(result, rows)\n .             }\n .             if (is.null(chunks)) {\n .                 if (is.null(quo_data$column)) {\n .                   chunks <- mask$eval_all_mutate(quo)\n .                 }\n .                 else {\n .                   chunks <- withCallingHandlers(mask$eval_all_mutate(quo), \n .                     error = function(cnd) {\n .                       msg <- glue(\"Problem while computing column `{quo_data$name_auto}`.\")\n .                       abort(msg, call = call(\"across\"), parent = cnd)\n .                     })\n .                 }\n .             }\n .             if (is.null(chunks)) {\n .                 next\n .             }\n .             if (is.null(result)) {\n .                 if (length(rows) == 1) {\n .                   result <- chunks[[1]]\n .                 }\n .                 else {\n .                   chunks <- dplyr_vec_cast_common(chunks, quo_data$name_auto)\n .                   result <- vec_unchop(chunks, rows)\n .                 }\n .             }\n .             quosures_results[[k]] <- list(result = result, chunks = chunks)\n .         }\n .         for (k in seq_along(quosures)) {\n .             quo <- quosures[[k]]\n .             quo_data <- attr(quo, \"dplyr:::data\")\n .             quo_result <- quosures_results[[k]]\n .             if (is.null(quo_result)) {\n .                 if (quo_data$is_named) {\n .                   name <- quo_data$name_given\n .                   new_columns[[name]] <- zap()\n .                   mask$remove(name)\n .                 }\n .                 next\n .             }\n .             result <- quo_result$result\n .             chunks <- quo_result$chunks\n .             if (!quo_data$is_named && is.data.frame(result)) {\n .                 types <- vec_ptype(result)\n .                 types_names <- names(types)\n .                 chunks_extracted <- .Call(dplyr_extract_chunks, \n .                   chunks, types)\n .                 for (j in seq_along(types)) {\n .                   mask$add_one(types_names[j], chunks_extracted[[j]], \n .                     result = result[[j]])\n .                 }\n .                 new_columns[types_names] <- result\n .             }\n .             else {\n .                 name <- quo_data$name_auto\n .                 mask$add_one(name = name, chunks = chunks, result = result)\n .                 new_columns[[name]] <- result\n .             }\n .         }\n .     }\n . }, error = function(e) {\n .     local_error_context(dots = dots, .index = i, mask = mask)\n .     bullets <- c(cnd_bullet_header(\"computing\"), mutate_bullets(e))\n .     abort(bullets, class = \"dplyr:::mutate_error\", parent = skip_internal_condition(e), \n .         bullets = bullets, call = error_call)\n . }, warning = function(w) {\n .     if (check_muffled_warning(w)) {\n .         maybe_restart(\"muffleWarning\")\n .     }\n .     local_error_context(dots = dots, .index = i, mask = mask)\n .     warn(c(cnd_bullet_header(\"computing\"), i = cnd_header(w), \n .         i = cnd_bullet_cur_group_label(what = \"warning\")))\n .     maybe_restart(\"muffleWarning\")\n . })",
            "6. mask$eval_all_mutate(quo)",
            "7. remove_ref(CITY)",
            "8. str_replace_all(column, ref_pattern, \" \")   # at line 5 of file <text>",
            "9. stri_replace_all_regex(string, pattern, fix_replacement(replacement), \n .     vectorize_all = vec, opts_regex = opts(pattern))",
            "10. .handleSimpleError(function (e) \n  . {\n  .     local_error_context(dots = dots, .index = i, mask = mask)\n  .     bullets <- c(cnd_bullet_header(\"computing\"), mutate_bullets(e))\n  .     abort(bullets, class = \"dplyr:::mutate_error\", parent = skip_internal_condition(e), \n  .         bullets = bullets, call = error_call)\n  . }, \"Unrecognized backslash escape sequence in pattern. (U_REGEX_BAD_ESCAPE_SEQUENCE, context=`\\\\[[\\\\w]+\\\\`)\", \n  .     base::quote(stri_replace_all_regex(string, pattern, fix_replacement(replacement), \n  .         vectorize_all = vec, opts_regex = opts(pattern))))",
            "11. h(simpleError(msg, call))",
            "12. abort(bullets, class = \"dplyr:::mutate_error\", parent = skip_internal_condition(e), \n  .     bullets = bullets, call = error_call)",
            "13. signal_abort(cnd, .file)"
          ]
        }
      ],
      "source": [
        "# sub_bike_sharing_df %>% mutate(column1=remove_ref(column1), ... )\n",
        "newdata <- bikesharing_dataset %>% \n",
        "  mutate(CITY = remove_ref(CITY),\n",
        "         SYSTEM = remove_ref(SYSTEM))\n",
        "\n",
        " newdata\n"
      ]
    },
    {
      "cell_type": "markdown",
      "metadata": {
        "id": "v_WGvWplIv2f"
      },
      "source": [
        "*TODO:* Use the following code to check whether all reference links are removed:\n"
      ]
    },
    {
      "cell_type": "code",
      "execution_count": null,
      "metadata": {
        "id": "txs7e4A1Iv2f",
        "colab": {
          "base_uri": "https://localhost:8080/",
          "height": 201
        },
        "outputId": "3dedffe6-8154-4269-b1b2-be19db5cccb4"
      },
      "outputs": [
        {
          "output_type": "error",
          "ename": "ERROR",
          "evalue": "ignored",
          "traceback": [
            "Error in select(., CITY, SYSTEM, BICYCLES): object 'newdata' not found\nTraceback:\n",
            "1. newdata %>% select(CITY, SYSTEM, BICYCLES) %>% filter(find_reference_pattern(CITY) | \n .     find_reference_pattern(SYSTEM) | find_reference_pattern(BICYCLES))",
            "2. filter(., find_reference_pattern(CITY) | find_reference_pattern(SYSTEM) | \n .     find_reference_pattern(BICYCLES))",
            "3. select(., CITY, SYSTEM, BICYCLES)"
          ]
        }
      ],
      "source": [
        "newdata %>% \n",
        "    select(CITY, SYSTEM, BICYCLES) %>% \n",
        "    filter(find_reference_pattern(CITY) | find_reference_pattern(SYSTEM) | find_reference_pattern(BICYCLES))"
      ]
    },
    {
      "cell_type": "markdown",
      "metadata": {
        "id": "QIuyoKdxIv2f"
      },
      "source": [
        "# TASK: Extract the numeric value using regular expressions\n"
      ]
    },
    {
      "cell_type": "markdown",
      "metadata": {
        "id": "75itDWRRIv2f"
      },
      "source": [
        "*TODO:* Write a custom function using `stringr::str_extract` to extract the first digital substring match and convert it into numeric type For example, extract the value '32' from `32 (including 6 rollers) [162]`.\n"
      ]
    },
    {
      "cell_type": "code",
      "execution_count": null,
      "metadata": {
        "id": "kYObgMWQIv2f",
        "colab": {
          "base_uri": "https://localhost:8080/",
          "height": 121
        },
        "outputId": "d7470ed7-62e2-420e-acc1-8f15c37c0379"
      },
      "outputs": [
        {
          "output_type": "display_data",
          "data": {
            "text/html": [
              "<pre class=language-r><code>function (columns) \n",
              "{\n",
              "<span style=white-space:pre-wrap>    digitals_pattern &lt;- \"[0-9]+\"</span>\n",
              "<span style=white-space:pre-wrap>    result &lt;- str_extract(columns, digitals_pattern)</span>\n",
              "<span style=white-space:pre-wrap>    num_result &lt;- as.numeric(result)</span>\n",
              "}</code></pre>"
            ],
            "text/markdown": "```r\nfunction (columns) \n{\n    digitals_pattern <- \"[0-9]+\"\n    result <- str_extract(columns, digitals_pattern)\n    num_result <- as.numeric(result)\n}\n```",
            "text/latex": "\\begin{minted}{r}\nfunction (columns) \n\\{\n    digitals\\_pattern <- \"{[}0-9{]}+\"\n    result <- str\\_extract(columns, digitals\\_pattern)\n    num\\_result <- as.numeric(result)\n\\}\n\\end{minted}",
            "text/plain": [
              "function(columns){\n",
              "    # Define a digital pattern\n",
              "    digitals_pattern <- \"[0-9]+\"\n",
              "    # Find the first match using str_extract\n",
              "    result<- str_extract(columns, digitals_pattern)\n",
              "    # Convert the result to numeric using the as.numeric() function\n",
              "    num_result <- as.numeric (result)\n",
              "}"
            ]
          },
          "metadata": {}
        }
      ],
      "source": [
        "# Extract the first number\n",
        "extract_num <- function(columns){\n",
        "    # Define a digital pattern\n",
        "    digitals_pattern <- \"[0-9]+\"\n",
        "    # Find the first match using str_extract\n",
        "    result<- str_extract(columns, digitals_pattern)\n",
        "    # Convert the result to numeric using the as.numeric() function\n",
        "    num_result <- as.numeric (result)\n",
        "}\n",
        "extract_num"
      ]
    },
    {
      "cell_type": "markdown",
      "metadata": {
        "id": "DOtKE9c1Iv2g"
      },
      "source": [
        "*TODO:* Use the `dplyr::mutate()` function to apply `extract_num` on the `BICYCLES` column\n"
      ]
    },
    {
      "cell_type": "code",
      "execution_count": null,
      "metadata": {
        "id": "CW6nJqdmIv2g",
        "colab": {
          "base_uri": "https://localhost:8080/",
          "height": 1000
        },
        "outputId": "73a3fa39-bf10-4904-dcce-c0a6dfae0acd"
      },
      "outputs": [
        {
          "output_type": "display_data",
          "data": {
            "text/html": [
              "<table class=\"dataframe\">\n",
              "<caption>A data.frame: 480 × 10</caption>\n",
              "<thead>\n",
              "\t<tr><th scope=col>COUNTRY</th><th scope=col>CITY</th><th scope=col>NAME</th><th scope=col>SYSTEM</th><th scope=col>OPERATOR</th><th scope=col>LAUNCHED</th><th scope=col>DISCONTINUED</th><th scope=col>STATIONS</th><th scope=col>BICYCLES</th><th scope=col>DAILY_RIDERSHIP</th></tr>\n",
              "\t<tr><th scope=col>&lt;chr&gt;</th><th scope=col>&lt;chr&gt;</th><th scope=col>&lt;chr&gt;</th><th scope=col>&lt;chr&gt;</th><th scope=col>&lt;chr&gt;</th><th scope=col>&lt;chr&gt;</th><th scope=col>&lt;chr&gt;</th><th scope=col>&lt;chr&gt;</th><th scope=col>&lt;dbl&gt;</th><th scope=col>&lt;chr&gt;</th></tr>\n",
              "</thead>\n",
              "<tbody>\n",
              "\t<tr><td>Albania   </td><td>Tirana               </td><td>Ecovolis            </td><td>NA              </td><td>NA                            </td><td>March 2011                             </td><td>NA                  </td><td>8       </td><td> 200</td><td>NA      </td></tr>\n",
              "\t<tr><td>Argentina </td><td>Mendoza              </td><td>Metrobici           </td><td>NA              </td><td>NA                            </td><td>2014                                   </td><td>NA                  </td><td>2       </td><td>  40</td><td>NA      </td></tr>\n",
              "\t<tr><td>Argentina </td><td>San Lorenzo, Santa Fe</td><td>Biciudad            </td><td>Biciudad        </td><td>NA                            </td><td>27 November 2016                       </td><td>NA                  </td><td>8       </td><td>  80</td><td>NA      </td></tr>\n",
              "\t<tr><td>Argentina </td><td>Buenos Aires         </td><td>Ecobici             </td><td>Serttel Brasil  </td><td>Bike In Baires Consortium.[10]</td><td>2010                                   </td><td>NA                  </td><td>400     </td><td>4000</td><td>21917   </td></tr>\n",
              "\t<tr><td>Argentina </td><td>Rosario              </td><td>Mi Bici Tu Bici[11] </td><td>NA              </td><td>NA                            </td><td>2 December 2015                        </td><td>NA                  </td><td>47      </td><td> 480</td><td>NA      </td></tr>\n",
              "\t<tr><td>Australia </td><td><span style=white-space:pre-wrap>Melbourne[12]        </span></td><td>Melbourne Bike Share</td><td><span style=white-space:pre-wrap>PBSC &amp; 8D       </span></td><td><span style=white-space:pre-wrap>Motivate                      </span></td><td><span style=white-space:pre-wrap>June 2010                              </span></td><td>30 November 2019[13]</td><td><span style=white-space:pre-wrap>53      </span></td><td> 676</td><td><span style=white-space:pre-wrap>NA      </span></td></tr>\n",
              "\t<tr><td>Australia </td><td>Brisbane[14][15]     </td><td>CityCycle           </td><td>3 Gen. Cyclocity</td><td>JCDecaux                      </td><td>September 2010                         </td><td>NA                  </td><td>150     </td><td>2000</td><td>NA      </td></tr>\n",
              "\t<tr><td>Australia </td><td>Melbourne            </td><td>oBike               </td><td>4 Gen. oBike    </td><td>NA                            </td><td>July 2017                              </td><td>July 2018           </td><td>dockless</td><td>1250</td><td>NA      </td></tr>\n",
              "\t<tr><td>Australia </td><td>Sydney               </td><td>oBike               </td><td>4 Gen. oBike    </td><td>NA                            </td><td>July 2017                              </td><td>July 2018           </td><td>dockless</td><td>1250</td><td>NA      </td></tr>\n",
              "\t<tr><td>Australia </td><td>Sydney               </td><td>Ofo                 </td><td>4 Gen. Ofo      </td><td>NA                            </td><td>October 2017                           </td><td>NA                  </td><td>dockless</td><td> 600</td><td>NA      </td></tr>\n",
              "\t<tr><td>Australia </td><td>Sydney               </td><td>Reddy Go            </td><td>Reddy Go        </td><td>NA                            </td><td>July 2017                              </td><td>NA                  </td><td>NA      </td><td>2000</td><td>NA      </td></tr>\n",
              "\t<tr><td>Austria   </td><td>Vienna               </td><td>Citybike Wien [16]  </td><td>3 Gen. Cyclocity</td><td>JCDecaux Gewista              </td><td>June 2003                              </td><td>NA                  </td><td>121     </td><td>1500</td><td>2800[17]</td></tr>\n",
              "\t<tr><td>Austria   </td><td>Burgenland           </td><td>LEIHRADL nextbike   </td><td>3 Gen. nextbike </td><td>NA                            </td><td>2009                                   </td><td>NA                  </td><td>40      </td><td>  NA</td><td>NA      </td></tr>\n",
              "\t<tr><td>Austria   </td><td>Lower Austria[18]    </td><td>LEIHRADL nextbike   </td><td>3 Gen. nextbike </td><td>NA                            </td><td>2009                                   </td><td>NA                  </td><td>295     </td><td>1300</td><td>NA      </td></tr>\n",
              "\t<tr><td>Austria   </td><td>Salzburg             </td><td>nextbike            </td><td>3 Gen. nextbike </td><td>NA                            </td><td>2011                                   </td><td>NA                  </td><td>NA      </td><td>  NA</td><td>NA      </td></tr>\n",
              "\t<tr><td>Austria   </td><td>Vienna               </td><td>Viennabike          </td><td>2 Gen.          </td><td>Association and city council  </td><td>April 2002                             </td><td>November 2002       </td><td>200     </td><td>1500</td><td>NA      </td></tr>\n",
              "\t<tr><td>Austria   </td><td>Vorarlberg           </td><td>NA                  </td><td>3 Gen. nextbike </td><td>NA                            </td><td>2009                                   </td><td>NA                  </td><td>14      </td><td>  70</td><td>NA      </td></tr>\n",
              "\t<tr><td>Bangladesh</td><td>Dhaka                </td><td>JoBike              </td><td>JoBike          </td><td>NA                            </td><td>2018                                   </td><td>NA                  </td><td>05      </td><td> 300</td><td>NA      </td></tr>\n",
              "\t<tr><td>Belgium   </td><td>Namur[19]            </td><td>Libiavelo           </td><td>3 Gen. Cyclocity</td><td>JCDecaux                      </td><td>21 April 2012                          </td><td>NA                  </td><td>24      </td><td> 200</td><td>NA      </td></tr>\n",
              "\t<tr><td>Belgium   </td><td>Antwerp              </td><td>Velo                </td><td>3 Gen. Clear CC </td><td>NA                            </td><td>9 June 2011                            </td><td>NA                  </td><td>302     </td><td>3600</td><td>7010[20]</td></tr>\n",
              "\t<tr><td>Belgium   </td><td>Brussels[21]         </td><td>Villo!              </td><td>3 Gen. Cyclocity</td><td>JCDecaux                      </td><td>19 May 2009 (earlier system since 2006)</td><td>NA                  </td><td>346     </td><td>4115</td><td>NA      </td></tr>\n",
              "\t<tr><td>Brazil    </td><td>Salvador[23]         </td><td>Bike Salvador       </td><td>tembici         </td><td>NA                            </td><td>2013                                   </td><td>NA                  </td><td>23      </td><td>  NA</td><td>NA      </td></tr>\n",
              "\t<tr><td>Brazil    </td><td>Belo Horizonte[24]   </td><td>Bikebh              </td><td>Mobilicidade    </td><td>NA                            </td><td>2014                                   </td><td>NA                  </td><td>40      </td><td> 400</td><td>NA      </td></tr>\n",
              "\t<tr><td>Brazil    </td><td>Fortaleza            </td><td>Bicicletar          </td><td>Mobilicidade    </td><td>NA                            </td><td>15 December 2014                       </td><td>NA                  </td><td>80      </td><td> 800</td><td>NA      </td></tr>\n",
              "\t<tr><td>Brazil    </td><td>João Pessoa[25]      </td><td>SAMBA               </td><td>Mobilicidade    </td><td>NA                            </td><td>NA                                     </td><td>NA                  </td><td>3       </td><td>  20</td><td>NA      </td></tr>\n",
              "\t<tr><td>Brazil    </td><td>(Pedro de) Toledo[26]</td><td>Toopedalando        </td><td>Toopedalando    </td><td>NA                            </td><td>2011                                   </td><td>NA                  </td><td>6       </td><td>  60</td><td>NA      </td></tr>\n",
              "\t<tr><td>Brazil    </td><td>Rio de Janeiro[27]   </td><td>Bike Rio            </td><td>tembici         </td><td>NA                            </td><td>2011                                   </td><td>NA                  </td><td>60      </td><td> 300</td><td>NA      </td></tr>\n",
              "\t<tr><td>Brazil    </td><td>São Paulo[28]        </td><td>Bikesampa           </td><td>tembici         </td><td>NA                            </td><td>2012                                   </td><td>NA                  </td><td>241     </td><td> 600</td><td>NA      </td></tr>\n",
              "\t<tr><td>Brazil    </td><td>Sorocaba[29]         </td><td>Integrabike         </td><td>tembici         </td><td>NA                            </td><td>2012                                   </td><td>NA                  </td><td>15      </td><td> 120</td><td>NA      </td></tr>\n",
              "\t<tr><td>Bulgaria  </td><td>Burgas               </td><td>VeloBurgas          </td><td>Mobilicidade    </td><td>NA                            </td><td>2012                                   </td><td>NA                  </td><td>10      </td><td> 120</td><td>NA      </td></tr>\n",
              "\t<tr><td>⋮</td><td>⋮</td><td>⋮</td><td>⋮</td><td>⋮</td><td>⋮</td><td>⋮</td><td>⋮</td><td>⋮</td><td>⋮</td></tr>\n",
              "\t<tr><td>United States</td><td>Fullerton, California                                     </td><td>OCTA BikeShare             </td><td>Bike Nation                        </td><td>NA                         </td><td>6 January 2014  </td><td>NA           </td><td>10     </td><td>  75</td><td>NA         </td></tr>\n",
              "\t<tr><td>United States</td><td>Hoboken, New Jersey[288]                                  </td><td>Hudson Bike Share          </td><td>3 Gen. nextbike                    </td><td>NA                         </td><td>September 2015  </td><td>NA           </td><td>29     </td><td> 250</td><td>NA         </td></tr>\n",
              "\t<tr><td>United States</td><td>Houston, Texas[289][290]                                  </td><td>Houston B-cycle            </td><td>3 Gen. B-Cycle                     </td><td>NA                         </td><td>2012            </td><td>NA           </td><td>51[291]</td><td> 400</td><td>NA         </td></tr>\n",
              "\t<tr><td>United States</td><td>Jersey City[292]                                          </td><td>Citi Bike                  </td><td>8D                                 </td><td>Motivate                   </td><td>September 2015  </td><td>NA           </td><td>50     </td><td> 500</td><td>NA         </td></tr>\n",
              "\t<tr><td>United States</td><td>Kailua, Hawaii[293][294]                                  </td><td>Hawaii B-cycle             </td><td>3 Gen. B-Cycle                     </td><td>NA                         </td><td>2011            </td><td>NA           </td><td>2      </td><td>  12</td><td>NA         </td></tr>\n",
              "\t<tr><td>United States</td><td>Kansas City, Missouri[295]                                </td><td>Kansas City B-cycle        </td><td>3 Gen. B-Cycle                     </td><td>NA                         </td><td>2012            </td><td>NA           </td><td>30     </td><td> 300</td><td>NA         </td></tr>\n",
              "\t<tr><td>United States</td><td>Kona District, Hawaii                                     </td><td>NA                         </td><td>PBSC                               </td><td>NA                         </td><td>2016            </td><td>NA           </td><td>3      </td><td>  30</td><td>NA         </td></tr>\n",
              "\t<tr><td>United States</td><td>Lansing, MI                                               </td><td>Capital Community Bikeshare</td><td>A2B Bikeshare                      </td><td>NA                         </td><td>2014            </td><td>NA           </td><td>8      </td><td>  20</td><td>Closed[296]</td></tr>\n",
              "\t<tr><td>United States</td><td>Lincoln, Nebraska[297]                                    </td><td>BikeLNK                    </td><td>3 Gen. B-Cycle                     </td><td>NA                         </td><td>2018            </td><td>NA           </td><td>19     </td><td> 100</td><td>NA         </td></tr>\n",
              "\t<tr><td>United States</td><td>Los Angeles                                               </td><td>Metro Bike Share           </td><td>3 Gen. B-Cycle                     </td><td>NA                         </td><td>7 July 2016     </td><td>NA           </td><td>65     </td><td>1000</td><td>NA         </td></tr>\n",
              "\t<tr><td>United States</td><td>Madison, Wisconsin[298]                                   </td><td>Madison B-Cycle            </td><td>3 Gen. B-Cycle                     </td><td>NA                         </td><td>2011            </td><td>NA           </td><td>39     </td><td> 350</td><td>NA         </td></tr>\n",
              "\t<tr><td>United States</td><td>Milwaukee, Wisconsin[299][300]                            </td><td>Bublr Bikes                </td><td>3 Gen. B-Cycle                     </td><td>NA                         </td><td>2014            </td><td>NA           </td><td>87     </td><td> 400</td><td>NA         </td></tr>\n",
              "\t<tr><td>United States</td><td>Minneapolis, Minnesota and Saint Paul, Minnesota[301][302]</td><td><span style=white-space:pre-wrap>Nice Ride                  </span></td><td><span style=white-space:pre-wrap>PBSC &amp; 8D                          </span></td><td><span style=white-space:pre-wrap>NA                         </span></td><td><span style=white-space:pre-wrap>2010            </span></td><td><span style=white-space:pre-wrap>NA           </span></td><td><span style=white-space:pre-wrap>171    </span></td><td>1833</td><td><span style=white-space:pre-wrap>NA         </span></td></tr>\n",
              "\t<tr><td>United States</td><td>Oklahoma City, Oklahoma[303]                              </td><td>Spokies                    </td><td>Spokies                            </td><td>NA                         </td><td>2012            </td><td>NA           </td><td>7      </td><td> 100</td><td>NA         </td></tr>\n",
              "\t<tr><td>United States</td><td>Omaha, Nebraska[304]                                      </td><td>Omaha B-Cycle              </td><td>3 Gen. B-Cycle                     </td><td>NA                         </td><td>2011            </td><td>NA           </td><td>5      </td><td>  35</td><td>NA         </td></tr>\n",
              "\t<tr><td>United States</td><td>Philadelphia, Pennsylvania[305][306]                      </td><td>Indego                     </td><td>3 Gen. B-Cycle                     </td><td>NA                         </td><td>23 April 2015   </td><td>NA           </td><td>105    </td><td>1000</td><td>NA         </td></tr>\n",
              "\t<tr><td>United States</td><td>Phoenix, Arizona                                          </td><td>Grid Bike Share            </td><td>3 Gen. CycleHop and Social Bicycles</td><td>NA                         </td><td>25 November 2014</td><td>NA           </td><td>40     </td><td> 500</td><td>NA         </td></tr>\n",
              "\t<tr><td>United States</td><td>Pittsburgh, Pennsylvania                                  </td><td>Healthy Ride PGH           </td><td>3 Gen. nextbike                    </td><td>NA                         </td><td>2015            </td><td>NA           </td><td>50     </td><td> 500</td><td>NA         </td></tr>\n",
              "\t<tr><td>United States</td><td>Portland, Oregon                                          </td><td>Biketown                   </td><td>NA                                 </td><td>NA                         </td><td>19 July 2016    </td><td>NA           </td><td>100    </td><td>1000</td><td>NA         </td></tr>\n",
              "\t<tr><td>United States</td><td>Portland, Oregon                                          </td><td>Yellow Bike Project        </td><td>1 Gen. WhiteBikes                  </td><td>Yellow Bike Project        </td><td>1994[307]       </td><td>1997[308]    </td><td>NA     </td><td>1000</td><td>NA         </td></tr>\n",
              "\t<tr><td>United States</td><td>Salt Lake City, Utah[309]                                 </td><td>SLC Bike Share             </td><td>3 Gen. B-Cycle                     </td><td>NA                         </td><td>2013            </td><td>NA           </td><td>12     </td><td> 100</td><td>NA         </td></tr>\n",
              "\t<tr><td>United States</td><td>San Antonio, Texas[310]                                   </td><td>San Antonio B-Cycle        </td><td>3 Gen. B-Cycle                     </td><td>NA                         </td><td>2011            </td><td>NA           </td><td>68     </td><td> 600</td><td>NA         </td></tr>\n",
              "\t<tr><td>United States</td><td>San Diego[311]                                            </td><td>DecoBike                   </td><td>DecoBike                           </td><td>JCDecaux                   </td><td>February 2015   </td><td>NA           </td><td>180    </td><td>1800</td><td>NA         </td></tr>\n",
              "\t<tr><td>United States</td><td>San Francisco Bay Area                                    </td><td>NA                         </td><td>NA                                 </td><td>NA                         </td><td>2013            </td><td>NA           </td><td>NA     </td><td>  NA</td><td>NA         </td></tr>\n",
              "\t<tr><td>United States</td><td>San Francisco Bay Area[312]                               </td><td>Baywheels                  </td><td>8D                                 </td><td>Motivate                   </td><td>June 2017       </td><td>NA           </td><td>550    </td><td>7000</td><td>NA         </td></tr>\n",
              "\t<tr><td>United States</td><td>Santa Monica, California[313]                             </td><td>Breeze Bike Share          </td><td>3 Gen. CycleHop and Social Bicycles</td><td>NA                         </td><td>13 August 2015  </td><td>NA           </td><td>80     </td><td> 500</td><td>NA         </td></tr>\n",
              "\t<tr><td>United States</td><td>Savannah, Georgia[314]                                    </td><td>CAT Bike                   </td><td>3 Gen. B-Cycle                     </td><td>NA                         </td><td>24 January 2014 </td><td>NA           </td><td>2      </td><td>  16</td><td>NA         </td></tr>\n",
              "\t<tr><td>United States</td><td>Seattle, Washington[315]                                  </td><td>Pronto Cycle Share         </td><td>8D                                 </td><td>Motivate                   </td><td>13 October 2014 </td><td>31 March 2017</td><td>50     </td><td> 500</td><td>NA         </td></tr>\n",
              "\t<tr><td>United States</td><td>Spartanburg, South Carolina[316]                          </td><td>Spartanburg B-Cycle        </td><td>3 Gen. B-Cycle                     </td><td>NA                         </td><td>2011            </td><td>NA           </td><td>5      </td><td>  40</td><td>NA         </td></tr>\n",
              "\t<tr><td>United States</td><td>St. Paul                                                  </td><td>Yellow Bike Project        </td><td>1 Gen. w/ BikeCard                 </td><td>volunteers and city council</td><td>1997            </td><td>NA           </td><td>NA     </td><td>  NA</td><td>NA         </td></tr>\n",
              "</tbody>\n",
              "</table>\n"
            ],
            "text/markdown": "\nA data.frame: 480 × 10\n\n| COUNTRY &lt;chr&gt; | CITY &lt;chr&gt; | NAME &lt;chr&gt; | SYSTEM &lt;chr&gt; | OPERATOR &lt;chr&gt; | LAUNCHED &lt;chr&gt; | DISCONTINUED &lt;chr&gt; | STATIONS &lt;chr&gt; | BICYCLES &lt;dbl&gt; | DAILY_RIDERSHIP &lt;chr&gt; |\n|---|---|---|---|---|---|---|---|---|---|\n| Albania    | Tirana                | Ecovolis             | NA               | NA                             | March 2011                              | NA                   | 8        |  200 | NA       |\n| Argentina  | Mendoza               | Metrobici            | NA               | NA                             | 2014                                    | NA                   | 2        |   40 | NA       |\n| Argentina  | San Lorenzo, Santa Fe | Biciudad             | Biciudad         | NA                             | 27 November 2016                        | NA                   | 8        |   80 | NA       |\n| Argentina  | Buenos Aires          | Ecobici              | Serttel Brasil   | Bike In Baires Consortium.[10] | 2010                                    | NA                   | 400      | 4000 | 21917    |\n| Argentina  | Rosario               | Mi Bici Tu Bici[11]  | NA               | NA                             | 2 December 2015                         | NA                   | 47       |  480 | NA       |\n| Australia  | Melbourne[12]         | Melbourne Bike Share | PBSC &amp; 8D        | Motivate                       | June 2010                               | 30 November 2019[13] | 53       |  676 | NA       |\n| Australia  | Brisbane[14][15]      | CityCycle            | 3 Gen. Cyclocity | JCDecaux                       | September 2010                          | NA                   | 150      | 2000 | NA       |\n| Australia  | Melbourne             | oBike                | 4 Gen. oBike     | NA                             | July 2017                               | July 2018            | dockless | 1250 | NA       |\n| Australia  | Sydney                | oBike                | 4 Gen. oBike     | NA                             | July 2017                               | July 2018            | dockless | 1250 | NA       |\n| Australia  | Sydney                | Ofo                  | 4 Gen. Ofo       | NA                             | October 2017                            | NA                   | dockless |  600 | NA       |\n| Australia  | Sydney                | Reddy Go             | Reddy Go         | NA                             | July 2017                               | NA                   | NA       | 2000 | NA       |\n| Austria    | Vienna                | Citybike Wien [16]   | 3 Gen. Cyclocity | JCDecaux Gewista               | June 2003                               | NA                   | 121      | 1500 | 2800[17] |\n| Austria    | Burgenland            | LEIHRADL nextbike    | 3 Gen. nextbike  | NA                             | 2009                                    | NA                   | 40       |   NA | NA       |\n| Austria    | Lower Austria[18]     | LEIHRADL nextbike    | 3 Gen. nextbike  | NA                             | 2009                                    | NA                   | 295      | 1300 | NA       |\n| Austria    | Salzburg              | nextbike             | 3 Gen. nextbike  | NA                             | 2011                                    | NA                   | NA       |   NA | NA       |\n| Austria    | Vienna                | Viennabike           | 2 Gen.           | Association and city council   | April 2002                              | November 2002        | 200      | 1500 | NA       |\n| Austria    | Vorarlberg            | NA                   | 3 Gen. nextbike  | NA                             | 2009                                    | NA                   | 14       |   70 | NA       |\n| Bangladesh | Dhaka                 | JoBike               | JoBike           | NA                             | 2018                                    | NA                   | 05       |  300 | NA       |\n| Belgium    | Namur[19]             | Libiavelo            | 3 Gen. Cyclocity | JCDecaux                       | 21 April 2012                           | NA                   | 24       |  200 | NA       |\n| Belgium    | Antwerp               | Velo                 | 3 Gen. Clear CC  | NA                             | 9 June 2011                             | NA                   | 302      | 3600 | 7010[20] |\n| Belgium    | Brussels[21]          | Villo!               | 3 Gen. Cyclocity | JCDecaux                       | 19 May 2009 (earlier system since 2006) | NA                   | 346      | 4115 | NA       |\n| Brazil     | Salvador[23]          | Bike Salvador        | tembici          | NA                             | 2013                                    | NA                   | 23       |   NA | NA       |\n| Brazil     | Belo Horizonte[24]    | Bikebh               | Mobilicidade     | NA                             | 2014                                    | NA                   | 40       |  400 | NA       |\n| Brazil     | Fortaleza             | Bicicletar           | Mobilicidade     | NA                             | 15 December 2014                        | NA                   | 80       |  800 | NA       |\n| Brazil     | João Pessoa[25]       | SAMBA                | Mobilicidade     | NA                             | NA                                      | NA                   | 3        |   20 | NA       |\n| Brazil     | (Pedro de) Toledo[26] | Toopedalando         | Toopedalando     | NA                             | 2011                                    | NA                   | 6        |   60 | NA       |\n| Brazil     | Rio de Janeiro[27]    | Bike Rio             | tembici          | NA                             | 2011                                    | NA                   | 60       |  300 | NA       |\n| Brazil     | São Paulo[28]         | Bikesampa            | tembici          | NA                             | 2012                                    | NA                   | 241      |  600 | NA       |\n| Brazil     | Sorocaba[29]          | Integrabike          | tembici          | NA                             | 2012                                    | NA                   | 15       |  120 | NA       |\n| Bulgaria   | Burgas                | VeloBurgas           | Mobilicidade     | NA                             | 2012                                    | NA                   | 10       |  120 | NA       |\n| ⋮ | ⋮ | ⋮ | ⋮ | ⋮ | ⋮ | ⋮ | ⋮ | ⋮ | ⋮ |\n| United States | Fullerton, California                                      | OCTA BikeShare              | Bike Nation                         | NA                          | 6 January 2014   | NA            | 10      |   75 | NA          |\n| United States | Hoboken, New Jersey[288]                                   | Hudson Bike Share           | 3 Gen. nextbike                     | NA                          | September 2015   | NA            | 29      |  250 | NA          |\n| United States | Houston, Texas[289][290]                                   | Houston B-cycle             | 3 Gen. B-Cycle                      | NA                          | 2012             | NA            | 51[291] |  400 | NA          |\n| United States | Jersey City[292]                                           | Citi Bike                   | 8D                                  | Motivate                    | September 2015   | NA            | 50      |  500 | NA          |\n| United States | Kailua, Hawaii[293][294]                                   | Hawaii B-cycle              | 3 Gen. B-Cycle                      | NA                          | 2011             | NA            | 2       |   12 | NA          |\n| United States | Kansas City, Missouri[295]                                 | Kansas City B-cycle         | 3 Gen. B-Cycle                      | NA                          | 2012             | NA            | 30      |  300 | NA          |\n| United States | Kona District, Hawaii                                      | NA                          | PBSC                                | NA                          | 2016             | NA            | 3       |   30 | NA          |\n| United States | Lansing, MI                                                | Capital Community Bikeshare | A2B Bikeshare                       | NA                          | 2014             | NA            | 8       |   20 | Closed[296] |\n| United States | Lincoln, Nebraska[297]                                     | BikeLNK                     | 3 Gen. B-Cycle                      | NA                          | 2018             | NA            | 19      |  100 | NA          |\n| United States | Los Angeles                                                | Metro Bike Share            | 3 Gen. B-Cycle                      | NA                          | 7 July 2016      | NA            | 65      | 1000 | NA          |\n| United States | Madison, Wisconsin[298]                                    | Madison B-Cycle             | 3 Gen. B-Cycle                      | NA                          | 2011             | NA            | 39      |  350 | NA          |\n| United States | Milwaukee, Wisconsin[299][300]                             | Bublr Bikes                 | 3 Gen. B-Cycle                      | NA                          | 2014             | NA            | 87      |  400 | NA          |\n| United States | Minneapolis, Minnesota and Saint Paul, Minnesota[301][302] | Nice Ride                   | PBSC &amp; 8D                           | NA                          | 2010             | NA            | 171     | 1833 | NA          |\n| United States | Oklahoma City, Oklahoma[303]                               | Spokies                     | Spokies                             | NA                          | 2012             | NA            | 7       |  100 | NA          |\n| United States | Omaha, Nebraska[304]                                       | Omaha B-Cycle               | 3 Gen. B-Cycle                      | NA                          | 2011             | NA            | 5       |   35 | NA          |\n| United States | Philadelphia, Pennsylvania[305][306]                       | Indego                      | 3 Gen. B-Cycle                      | NA                          | 23 April 2015    | NA            | 105     | 1000 | NA          |\n| United States | Phoenix, Arizona                                           | Grid Bike Share             | 3 Gen. CycleHop and Social Bicycles | NA                          | 25 November 2014 | NA            | 40      |  500 | NA          |\n| United States | Pittsburgh, Pennsylvania                                   | Healthy Ride PGH            | 3 Gen. nextbike                     | NA                          | 2015             | NA            | 50      |  500 | NA          |\n| United States | Portland, Oregon                                           | Biketown                    | NA                                  | NA                          | 19 July 2016     | NA            | 100     | 1000 | NA          |\n| United States | Portland, Oregon                                           | Yellow Bike Project         | 1 Gen. WhiteBikes                   | Yellow Bike Project         | 1994[307]        | 1997[308]     | NA      | 1000 | NA          |\n| United States | Salt Lake City, Utah[309]                                  | SLC Bike Share              | 3 Gen. B-Cycle                      | NA                          | 2013             | NA            | 12      |  100 | NA          |\n| United States | San Antonio, Texas[310]                                    | San Antonio B-Cycle         | 3 Gen. B-Cycle                      | NA                          | 2011             | NA            | 68      |  600 | NA          |\n| United States | San Diego[311]                                             | DecoBike                    | DecoBike                            | JCDecaux                    | February 2015    | NA            | 180     | 1800 | NA          |\n| United States | San Francisco Bay Area                                     | NA                          | NA                                  | NA                          | 2013             | NA            | NA      |   NA | NA          |\n| United States | San Francisco Bay Area[312]                                | Baywheels                   | 8D                                  | Motivate                    | June 2017        | NA            | 550     | 7000 | NA          |\n| United States | Santa Monica, California[313]                              | Breeze Bike Share           | 3 Gen. CycleHop and Social Bicycles | NA                          | 13 August 2015   | NA            | 80      |  500 | NA          |\n| United States | Savannah, Georgia[314]                                     | CAT Bike                    | 3 Gen. B-Cycle                      | NA                          | 24 January 2014  | NA            | 2       |   16 | NA          |\n| United States | Seattle, Washington[315]                                   | Pronto Cycle Share          | 8D                                  | Motivate                    | 13 October 2014  | 31 March 2017 | 50      |  500 | NA          |\n| United States | Spartanburg, South Carolina[316]                           | Spartanburg B-Cycle         | 3 Gen. B-Cycle                      | NA                          | 2011             | NA            | 5       |   40 | NA          |\n| United States | St. Paul                                                   | Yellow Bike Project         | 1 Gen. w/ BikeCard                  | volunteers and city council | 1997             | NA            | NA      |   NA | NA          |\n\n",
            "text/latex": "A data.frame: 480 × 10\n\\begin{tabular}{llllllllll}\n COUNTRY & CITY & NAME & SYSTEM & OPERATOR & LAUNCHED & DISCONTINUED & STATIONS & BICYCLES & DAILY\\_RIDERSHIP\\\\\n <chr> & <chr> & <chr> & <chr> & <chr> & <chr> & <chr> & <chr> & <dbl> & <chr>\\\\\n\\hline\n\t Albania    & Tirana                & Ecovolis             & NA               & NA                             & March 2011                              & NA                   & 8        &  200 & NA      \\\\\n\t Argentina  & Mendoza               & Metrobici            & NA               & NA                             & 2014                                    & NA                   & 2        &   40 & NA      \\\\\n\t Argentina  & San Lorenzo, Santa Fe & Biciudad             & Biciudad         & NA                             & 27 November 2016                        & NA                   & 8        &   80 & NA      \\\\\n\t Argentina  & Buenos Aires          & Ecobici              & Serttel Brasil   & Bike In Baires Consortium.{[}10{]} & 2010                                    & NA                   & 400      & 4000 & 21917   \\\\\n\t Argentina  & Rosario               & Mi Bici Tu Bici{[}11{]}  & NA               & NA                             & 2 December 2015                         & NA                   & 47       &  480 & NA      \\\\\n\t Australia  & Melbourne{[}12{]}         & Melbourne Bike Share & PBSC \\& 8D        & Motivate                       & June 2010                               & 30 November 2019{[}13{]} & 53       &  676 & NA      \\\\\n\t Australia  & Brisbane{[}14{]}{[}15{]}      & CityCycle            & 3 Gen. Cyclocity & JCDecaux                       & September 2010                          & NA                   & 150      & 2000 & NA      \\\\\n\t Australia  & Melbourne             & oBike                & 4 Gen. oBike     & NA                             & July 2017                               & July 2018            & dockless & 1250 & NA      \\\\\n\t Australia  & Sydney                & oBike                & 4 Gen. oBike     & NA                             & July 2017                               & July 2018            & dockless & 1250 & NA      \\\\\n\t Australia  & Sydney                & Ofo                  & 4 Gen. Ofo       & NA                             & October 2017                            & NA                   & dockless &  600 & NA      \\\\\n\t Australia  & Sydney                & Reddy Go             & Reddy Go         & NA                             & July 2017                               & NA                   & NA       & 2000 & NA      \\\\\n\t Austria    & Vienna                & Citybike Wien {[}16{]}   & 3 Gen. Cyclocity & JCDecaux Gewista               & June 2003                               & NA                   & 121      & 1500 & 2800{[}17{]}\\\\\n\t Austria    & Burgenland            & LEIHRADL nextbike    & 3 Gen. nextbike  & NA                             & 2009                                    & NA                   & 40       &   NA & NA      \\\\\n\t Austria    & Lower Austria{[}18{]}     & LEIHRADL nextbike    & 3 Gen. nextbike  & NA                             & 2009                                    & NA                   & 295      & 1300 & NA      \\\\\n\t Austria    & Salzburg              & nextbike             & 3 Gen. nextbike  & NA                             & 2011                                    & NA                   & NA       &   NA & NA      \\\\\n\t Austria    & Vienna                & Viennabike           & 2 Gen.           & Association and city council   & April 2002                              & November 2002        & 200      & 1500 & NA      \\\\\n\t Austria    & Vorarlberg            & NA                   & 3 Gen. nextbike  & NA                             & 2009                                    & NA                   & 14       &   70 & NA      \\\\\n\t Bangladesh & Dhaka                 & JoBike               & JoBike           & NA                             & 2018                                    & NA                   & 05       &  300 & NA      \\\\\n\t Belgium    & Namur{[}19{]}             & Libiavelo            & 3 Gen. Cyclocity & JCDecaux                       & 21 April 2012                           & NA                   & 24       &  200 & NA      \\\\\n\t Belgium    & Antwerp               & Velo                 & 3 Gen. Clear CC  & NA                             & 9 June 2011                             & NA                   & 302      & 3600 & 7010{[}20{]}\\\\\n\t Belgium    & Brussels{[}21{]}          & Villo!               & 3 Gen. Cyclocity & JCDecaux                       & 19 May 2009 (earlier system since 2006) & NA                   & 346      & 4115 & NA      \\\\\n\t Brazil     & Salvador{[}23{]}          & Bike Salvador        & tembici          & NA                             & 2013                                    & NA                   & 23       &   NA & NA      \\\\\n\t Brazil     & Belo Horizonte{[}24{]}    & Bikebh               & Mobilicidade     & NA                             & 2014                                    & NA                   & 40       &  400 & NA      \\\\\n\t Brazil     & Fortaleza             & Bicicletar           & Mobilicidade     & NA                             & 15 December 2014                        & NA                   & 80       &  800 & NA      \\\\\n\t Brazil     & João Pessoa{[}25{]}       & SAMBA                & Mobilicidade     & NA                             & NA                                      & NA                   & 3        &   20 & NA      \\\\\n\t Brazil     & (Pedro de) Toledo{[}26{]} & Toopedalando         & Toopedalando     & NA                             & 2011                                    & NA                   & 6        &   60 & NA      \\\\\n\t Brazil     & Rio de Janeiro{[}27{]}    & Bike Rio             & tembici          & NA                             & 2011                                    & NA                   & 60       &  300 & NA      \\\\\n\t Brazil     & São Paulo{[}28{]}         & Bikesampa            & tembici          & NA                             & 2012                                    & NA                   & 241      &  600 & NA      \\\\\n\t Brazil     & Sorocaba{[}29{]}          & Integrabike          & tembici          & NA                             & 2012                                    & NA                   & 15       &  120 & NA      \\\\\n\t Bulgaria   & Burgas                & VeloBurgas           & Mobilicidade     & NA                             & 2012                                    & NA                   & 10       &  120 & NA      \\\\\n\t ⋮ & ⋮ & ⋮ & ⋮ & ⋮ & ⋮ & ⋮ & ⋮ & ⋮ & ⋮\\\\\n\t United States & Fullerton, California                                      & OCTA BikeShare              & Bike Nation                         & NA                          & 6 January 2014   & NA            & 10      &   75 & NA         \\\\\n\t United States & Hoboken, New Jersey{[}288{]}                                   & Hudson Bike Share           & 3 Gen. nextbike                     & NA                          & September 2015   & NA            & 29      &  250 & NA         \\\\\n\t United States & Houston, Texas{[}289{]}{[}290{]}                                   & Houston B-cycle             & 3 Gen. B-Cycle                      & NA                          & 2012             & NA            & 51{[}291{]} &  400 & NA         \\\\\n\t United States & Jersey City{[}292{]}                                           & Citi Bike                   & 8D                                  & Motivate                    & September 2015   & NA            & 50      &  500 & NA         \\\\\n\t United States & Kailua, Hawaii{[}293{]}{[}294{]}                                   & Hawaii B-cycle              & 3 Gen. B-Cycle                      & NA                          & 2011             & NA            & 2       &   12 & NA         \\\\\n\t United States & Kansas City, Missouri{[}295{]}                                 & Kansas City B-cycle         & 3 Gen. B-Cycle                      & NA                          & 2012             & NA            & 30      &  300 & NA         \\\\\n\t United States & Kona District, Hawaii                                      & NA                          & PBSC                                & NA                          & 2016             & NA            & 3       &   30 & NA         \\\\\n\t United States & Lansing, MI                                                & Capital Community Bikeshare & A2B Bikeshare                       & NA                          & 2014             & NA            & 8       &   20 & Closed{[}296{]}\\\\\n\t United States & Lincoln, Nebraska{[}297{]}                                     & BikeLNK                     & 3 Gen. B-Cycle                      & NA                          & 2018             & NA            & 19      &  100 & NA         \\\\\n\t United States & Los Angeles                                                & Metro Bike Share            & 3 Gen. B-Cycle                      & NA                          & 7 July 2016      & NA            & 65      & 1000 & NA         \\\\\n\t United States & Madison, Wisconsin{[}298{]}                                    & Madison B-Cycle             & 3 Gen. B-Cycle                      & NA                          & 2011             & NA            & 39      &  350 & NA         \\\\\n\t United States & Milwaukee, Wisconsin{[}299{]}{[}300{]}                             & Bublr Bikes                 & 3 Gen. B-Cycle                      & NA                          & 2014             & NA            & 87      &  400 & NA         \\\\\n\t United States & Minneapolis, Minnesota and Saint Paul, Minnesota{[}301{]}{[}302{]} & Nice Ride                   & PBSC \\& 8D                           & NA                          & 2010             & NA            & 171     & 1833 & NA         \\\\\n\t United States & Oklahoma City, Oklahoma{[}303{]}                               & Spokies                     & Spokies                             & NA                          & 2012             & NA            & 7       &  100 & NA         \\\\\n\t United States & Omaha, Nebraska{[}304{]}                                       & Omaha B-Cycle               & 3 Gen. B-Cycle                      & NA                          & 2011             & NA            & 5       &   35 & NA         \\\\\n\t United States & Philadelphia, Pennsylvania{[}305{]}{[}306{]}                       & Indego                      & 3 Gen. B-Cycle                      & NA                          & 23 April 2015    & NA            & 105     & 1000 & NA         \\\\\n\t United States & Phoenix, Arizona                                           & Grid Bike Share             & 3 Gen. CycleHop and Social Bicycles & NA                          & 25 November 2014 & NA            & 40      &  500 & NA         \\\\\n\t United States & Pittsburgh, Pennsylvania                                   & Healthy Ride PGH            & 3 Gen. nextbike                     & NA                          & 2015             & NA            & 50      &  500 & NA         \\\\\n\t United States & Portland, Oregon                                           & Biketown                    & NA                                  & NA                          & 19 July 2016     & NA            & 100     & 1000 & NA         \\\\\n\t United States & Portland, Oregon                                           & Yellow Bike Project         & 1 Gen. WhiteBikes                   & Yellow Bike Project         & 1994{[}307{]}        & 1997{[}308{]}     & NA      & 1000 & NA         \\\\\n\t United States & Salt Lake City, Utah{[}309{]}                                  & SLC Bike Share              & 3 Gen. B-Cycle                      & NA                          & 2013             & NA            & 12      &  100 & NA         \\\\\n\t United States & San Antonio, Texas{[}310{]}                                    & San Antonio B-Cycle         & 3 Gen. B-Cycle                      & NA                          & 2011             & NA            & 68      &  600 & NA         \\\\\n\t United States & San Diego{[}311{]}                                             & DecoBike                    & DecoBike                            & JCDecaux                    & February 2015    & NA            & 180     & 1800 & NA         \\\\\n\t United States & San Francisco Bay Area                                     & NA                          & NA                                  & NA                          & 2013             & NA            & NA      &   NA & NA         \\\\\n\t United States & San Francisco Bay Area{[}312{]}                                & Baywheels                   & 8D                                  & Motivate                    & June 2017        & NA            & 550     & 7000 & NA         \\\\\n\t United States & Santa Monica, California{[}313{]}                              & Breeze Bike Share           & 3 Gen. CycleHop and Social Bicycles & NA                          & 13 August 2015   & NA            & 80      &  500 & NA         \\\\\n\t United States & Savannah, Georgia{[}314{]}                                     & CAT Bike                    & 3 Gen. B-Cycle                      & NA                          & 24 January 2014  & NA            & 2       &   16 & NA         \\\\\n\t United States & Seattle, Washington{[}315{]}                                   & Pronto Cycle Share          & 8D                                  & Motivate                    & 13 October 2014  & 31 March 2017 & 50      &  500 & NA         \\\\\n\t United States & Spartanburg, South Carolina{[}316{]}                           & Spartanburg B-Cycle         & 3 Gen. B-Cycle                      & NA                          & 2011             & NA            & 5       &   40 & NA         \\\\\n\t United States & St. Paul                                                   & Yellow Bike Project         & 1 Gen. w/ BikeCard                  & volunteers and city council & 1997             & NA            & NA      &   NA & NA         \\\\\n\\end{tabular}\n",
            "text/plain": [
              "    COUNTRY       CITY                                                      \n",
              "1   Albania       Tirana                                                    \n",
              "2   Argentina     Mendoza                                                   \n",
              "3   Argentina     San Lorenzo, Santa Fe                                     \n",
              "4   Argentina     Buenos Aires                                              \n",
              "5   Argentina     Rosario                                                   \n",
              "6   Australia     Melbourne[12]                                             \n",
              "7   Australia     Brisbane[14][15]                                          \n",
              "8   Australia     Melbourne                                                 \n",
              "9   Australia     Sydney                                                    \n",
              "10  Australia     Sydney                                                    \n",
              "11  Australia     Sydney                                                    \n",
              "12  Austria       Vienna                                                    \n",
              "13  Austria       Burgenland                                                \n",
              "14  Austria       Lower Austria[18]                                         \n",
              "15  Austria       Salzburg                                                  \n",
              "16  Austria       Vienna                                                    \n",
              "17  Austria       Vorarlberg                                                \n",
              "18  Bangladesh    Dhaka                                                     \n",
              "19  Belgium       Namur[19]                                                 \n",
              "20  Belgium       Antwerp                                                   \n",
              "21  Belgium       Brussels[21]                                              \n",
              "22  Brazil        Salvador[23]                                              \n",
              "23  Brazil        Belo Horizonte[24]                                        \n",
              "24  Brazil        Fortaleza                                                 \n",
              "25  Brazil        João Pessoa[25]                                           \n",
              "26  Brazil        (Pedro de) Toledo[26]                                     \n",
              "27  Brazil        Rio de Janeiro[27]                                        \n",
              "28  Brazil        São Paulo[28]                                             \n",
              "29  Brazil        Sorocaba[29]                                              \n",
              "30  Bulgaria      Burgas                                                    \n",
              "⋮   ⋮             ⋮                                                         \n",
              "451 United States Fullerton, California                                     \n",
              "452 United States Hoboken, New Jersey[288]                                  \n",
              "453 United States Houston, Texas[289][290]                                  \n",
              "454 United States Jersey City[292]                                          \n",
              "455 United States Kailua, Hawaii[293][294]                                  \n",
              "456 United States Kansas City, Missouri[295]                                \n",
              "457 United States Kona District, Hawaii                                     \n",
              "458 United States Lansing, MI                                               \n",
              "459 United States Lincoln, Nebraska[297]                                    \n",
              "460 United States Los Angeles                                               \n",
              "461 United States Madison, Wisconsin[298]                                   \n",
              "462 United States Milwaukee, Wisconsin[299][300]                            \n",
              "463 United States Minneapolis, Minnesota and Saint Paul, Minnesota[301][302]\n",
              "464 United States Oklahoma City, Oklahoma[303]                              \n",
              "465 United States Omaha, Nebraska[304]                                      \n",
              "466 United States Philadelphia, Pennsylvania[305][306]                      \n",
              "467 United States Phoenix, Arizona                                          \n",
              "468 United States Pittsburgh, Pennsylvania                                  \n",
              "469 United States Portland, Oregon                                          \n",
              "470 United States Portland, Oregon                                          \n",
              "471 United States Salt Lake City, Utah[309]                                 \n",
              "472 United States San Antonio, Texas[310]                                   \n",
              "473 United States San Diego[311]                                            \n",
              "474 United States San Francisco Bay Area                                    \n",
              "475 United States San Francisco Bay Area[312]                               \n",
              "476 United States Santa Monica, California[313]                             \n",
              "477 United States Savannah, Georgia[314]                                    \n",
              "478 United States Seattle, Washington[315]                                  \n",
              "479 United States Spartanburg, South Carolina[316]                          \n",
              "480 United States St. Paul                                                  \n",
              "    NAME                        SYSTEM                             \n",
              "1   Ecovolis                    NA                                 \n",
              "2   Metrobici                   NA                                 \n",
              "3   Biciudad                    Biciudad                           \n",
              "4   Ecobici                     Serttel Brasil                     \n",
              "5   Mi Bici Tu Bici[11]         NA                                 \n",
              "6   Melbourne Bike Share        PBSC & 8D                          \n",
              "7   CityCycle                   3 Gen. Cyclocity                   \n",
              "8   oBike                       4 Gen. oBike                       \n",
              "9   oBike                       4 Gen. oBike                       \n",
              "10  Ofo                         4 Gen. Ofo                         \n",
              "11  Reddy Go                    Reddy Go                           \n",
              "12  Citybike Wien [16]          3 Gen. Cyclocity                   \n",
              "13  LEIHRADL nextbike           3 Gen. nextbike                    \n",
              "14  LEIHRADL nextbike           3 Gen. nextbike                    \n",
              "15  nextbike                    3 Gen. nextbike                    \n",
              "16  Viennabike                  2 Gen.                             \n",
              "17  NA                          3 Gen. nextbike                    \n",
              "18  JoBike                      JoBike                             \n",
              "19  Libiavelo                   3 Gen. Cyclocity                   \n",
              "20  Velo                        3 Gen. Clear CC                    \n",
              "21  Villo!                      3 Gen. Cyclocity                   \n",
              "22  Bike Salvador               tembici                            \n",
              "23  Bikebh                      Mobilicidade                       \n",
              "24  Bicicletar                  Mobilicidade                       \n",
              "25  SAMBA                       Mobilicidade                       \n",
              "26  Toopedalando                Toopedalando                       \n",
              "27  Bike Rio                    tembici                            \n",
              "28  Bikesampa                   tembici                            \n",
              "29  Integrabike                 tembici                            \n",
              "30  VeloBurgas                  Mobilicidade                       \n",
              "⋮   ⋮                           ⋮                                  \n",
              "451 OCTA BikeShare              Bike Nation                        \n",
              "452 Hudson Bike Share           3 Gen. nextbike                    \n",
              "453 Houston B-cycle             3 Gen. B-Cycle                     \n",
              "454 Citi Bike                   8D                                 \n",
              "455 Hawaii B-cycle              3 Gen. B-Cycle                     \n",
              "456 Kansas City B-cycle         3 Gen. B-Cycle                     \n",
              "457 NA                          PBSC                               \n",
              "458 Capital Community Bikeshare A2B Bikeshare                      \n",
              "459 BikeLNK                     3 Gen. B-Cycle                     \n",
              "460 Metro Bike Share            3 Gen. B-Cycle                     \n",
              "461 Madison B-Cycle             3 Gen. B-Cycle                     \n",
              "462 Bublr Bikes                 3 Gen. B-Cycle                     \n",
              "463 Nice Ride                   PBSC & 8D                          \n",
              "464 Spokies                     Spokies                            \n",
              "465 Omaha B-Cycle               3 Gen. B-Cycle                     \n",
              "466 Indego                      3 Gen. B-Cycle                     \n",
              "467 Grid Bike Share             3 Gen. CycleHop and Social Bicycles\n",
              "468 Healthy Ride PGH            3 Gen. nextbike                    \n",
              "469 Biketown                    NA                                 \n",
              "470 Yellow Bike Project         1 Gen. WhiteBikes                  \n",
              "471 SLC Bike Share              3 Gen. B-Cycle                     \n",
              "472 San Antonio B-Cycle         3 Gen. B-Cycle                     \n",
              "473 DecoBike                    DecoBike                           \n",
              "474 NA                          NA                                 \n",
              "475 Baywheels                   8D                                 \n",
              "476 Breeze Bike Share           3 Gen. CycleHop and Social Bicycles\n",
              "477 CAT Bike                    3 Gen. B-Cycle                     \n",
              "478 Pronto Cycle Share          8D                                 \n",
              "479 Spartanburg B-Cycle         3 Gen. B-Cycle                     \n",
              "480 Yellow Bike Project         1 Gen. w/ BikeCard                 \n",
              "    OPERATOR                       LAUNCHED                               \n",
              "1   NA                             March 2011                             \n",
              "2   NA                             2014                                   \n",
              "3   NA                             27 November 2016                       \n",
              "4   Bike In Baires Consortium.[10] 2010                                   \n",
              "5   NA                             2 December 2015                        \n",
              "6   Motivate                       June 2010                              \n",
              "7   JCDecaux                       September 2010                         \n",
              "8   NA                             July 2017                              \n",
              "9   NA                             July 2017                              \n",
              "10  NA                             October 2017                           \n",
              "11  NA                             July 2017                              \n",
              "12  JCDecaux Gewista               June 2003                              \n",
              "13  NA                             2009                                   \n",
              "14  NA                             2009                                   \n",
              "15  NA                             2011                                   \n",
              "16  Association and city council   April 2002                             \n",
              "17  NA                             2009                                   \n",
              "18  NA                             2018                                   \n",
              "19  JCDecaux                       21 April 2012                          \n",
              "20  NA                             9 June 2011                            \n",
              "21  JCDecaux                       19 May 2009 (earlier system since 2006)\n",
              "22  NA                             2013                                   \n",
              "23  NA                             2014                                   \n",
              "24  NA                             15 December 2014                       \n",
              "25  NA                             NA                                     \n",
              "26  NA                             2011                                   \n",
              "27  NA                             2011                                   \n",
              "28  NA                             2012                                   \n",
              "29  NA                             2012                                   \n",
              "30  NA                             2012                                   \n",
              "⋮   ⋮                              ⋮                                      \n",
              "451 NA                             6 January 2014                         \n",
              "452 NA                             September 2015                         \n",
              "453 NA                             2012                                   \n",
              "454 Motivate                       September 2015                         \n",
              "455 NA                             2011                                   \n",
              "456 NA                             2012                                   \n",
              "457 NA                             2016                                   \n",
              "458 NA                             2014                                   \n",
              "459 NA                             2018                                   \n",
              "460 NA                             7 July 2016                            \n",
              "461 NA                             2011                                   \n",
              "462 NA                             2014                                   \n",
              "463 NA                             2010                                   \n",
              "464 NA                             2012                                   \n",
              "465 NA                             2011                                   \n",
              "466 NA                             23 April 2015                          \n",
              "467 NA                             25 November 2014                       \n",
              "468 NA                             2015                                   \n",
              "469 NA                             19 July 2016                           \n",
              "470 Yellow Bike Project            1994[307]                              \n",
              "471 NA                             2013                                   \n",
              "472 NA                             2011                                   \n",
              "473 JCDecaux                       February 2015                          \n",
              "474 NA                             2013                                   \n",
              "475 Motivate                       June 2017                              \n",
              "476 NA                             13 August 2015                         \n",
              "477 NA                             24 January 2014                        \n",
              "478 Motivate                       13 October 2014                        \n",
              "479 NA                             2011                                   \n",
              "480 volunteers and city council    1997                                   \n",
              "    DISCONTINUED         STATIONS BICYCLES DAILY_RIDERSHIP\n",
              "1   NA                   8         200     NA             \n",
              "2   NA                   2          40     NA             \n",
              "3   NA                   8          80     NA             \n",
              "4   NA                   400      4000     21917          \n",
              "5   NA                   47        480     NA             \n",
              "6   30 November 2019[13] 53        676     NA             \n",
              "7   NA                   150      2000     NA             \n",
              "8   July 2018            dockless 1250     NA             \n",
              "9   July 2018            dockless 1250     NA             \n",
              "10  NA                   dockless  600     NA             \n",
              "11  NA                   NA       2000     NA             \n",
              "12  NA                   121      1500     2800[17]       \n",
              "13  NA                   40         NA     NA             \n",
              "14  NA                   295      1300     NA             \n",
              "15  NA                   NA         NA     NA             \n",
              "16  November 2002        200      1500     NA             \n",
              "17  NA                   14         70     NA             \n",
              "18  NA                   05        300     NA             \n",
              "19  NA                   24        200     NA             \n",
              "20  NA                   302      3600     7010[20]       \n",
              "21  NA                   346      4115     NA             \n",
              "22  NA                   23         NA     NA             \n",
              "23  NA                   40        400     NA             \n",
              "24  NA                   80        800     NA             \n",
              "25  NA                   3          20     NA             \n",
              "26  NA                   6          60     NA             \n",
              "27  NA                   60        300     NA             \n",
              "28  NA                   241       600     NA             \n",
              "29  NA                   15        120     NA             \n",
              "30  NA                   10        120     NA             \n",
              "⋮   ⋮                    ⋮        ⋮        ⋮              \n",
              "451 NA                   10         75     NA             \n",
              "452 NA                   29        250     NA             \n",
              "453 NA                   51[291]   400     NA             \n",
              "454 NA                   50        500     NA             \n",
              "455 NA                   2          12     NA             \n",
              "456 NA                   30        300     NA             \n",
              "457 NA                   3          30     NA             \n",
              "458 NA                   8          20     Closed[296]    \n",
              "459 NA                   19        100     NA             \n",
              "460 NA                   65       1000     NA             \n",
              "461 NA                   39        350     NA             \n",
              "462 NA                   87        400     NA             \n",
              "463 NA                   171      1833     NA             \n",
              "464 NA                   7         100     NA             \n",
              "465 NA                   5          35     NA             \n",
              "466 NA                   105      1000     NA             \n",
              "467 NA                   40        500     NA             \n",
              "468 NA                   50        500     NA             \n",
              "469 NA                   100      1000     NA             \n",
              "470 1997[308]            NA       1000     NA             \n",
              "471 NA                   12        100     NA             \n",
              "472 NA                   68        600     NA             \n",
              "473 NA                   180      1800     NA             \n",
              "474 NA                   NA         NA     NA             \n",
              "475 NA                   550      7000     NA             \n",
              "476 NA                   80        500     NA             \n",
              "477 NA                   2          16     NA             \n",
              "478 31 March 2017        50        500     NA             \n",
              "479 NA                   5          40     NA             \n",
              "480 NA                   NA         NA     NA             "
            ]
          },
          "metadata": {}
        }
      ],
      "source": [
        "# Use the mutate() function on the BICYCLES column\n",
        "changes <- bikesharing_dataset %>% mutate(BICYCLES = extract_num(BICYCLES))\n",
        "changes"
      ]
    },
    {
      "cell_type": "markdown",
      "metadata": {
        "id": "06mrTZX_Iv2g"
      },
      "source": [
        "*TODO:* Use the summary function to check the descriptive statistics of the numeric `BICYCLES` column\n"
      ]
    },
    {
      "cell_type": "code",
      "execution_count": null,
      "metadata": {
        "id": "IvStSCa0Iv2g",
        "colab": {
          "base_uri": "https://localhost:8080/",
          "height": 52
        },
        "outputId": "30a5e524-03e1-4773-c66d-376c08f5e8d4"
      },
      "outputs": [
        {
          "output_type": "display_data",
          "data": {
            "text/plain": [
              "   Length     Class      Mode \n",
              "      480 character character "
            ]
          },
          "metadata": {}
        }
      ],
      "source": [
        "summary(bikesharing_dataset$BICYCLES)"
      ]
    },
    {
      "cell_type": "markdown",
      "metadata": {
        "id": "6QstJK-vIv2g"
      },
      "source": [
        "*TODO:* Write the cleaned bike-sharing systems dataset into a csv file called `bike_sharing_systems.csv`\n"
      ]
    },
    {
      "cell_type": "code",
      "execution_count": null,
      "metadata": {
        "id": "82k5lpBoIv2g"
      },
      "outputs": [],
      "source": [
        "# Write dataset to `bike_sharing_systems.csv`\n"
      ]
    },
    {
      "cell_type": "markdown",
      "metadata": {
        "id": "9kv1T2E6Iv2g"
      },
      "source": [
        "# References:\n"
      ]
    },
    {
      "cell_type": "markdown",
      "metadata": {
        "id": "k0pbPs97Iv2g"
      },
      "source": [
        "If you need to refresh your memory about regular expressions, please refer to this good Regular Expression cheat sheet:\n",
        "\n",
        "<a href=\"https://www.rstudio.com/wp-content/uploads/2016/09/RegExCheatsheet.pdf?utm_medium=Exinfluencer&utm_source=Exinfluencer&utm_content=000026UJ&utm_term=10006555&utm_id=NA-SkillsNetwork-Channel-SkillsNetworkCoursesIBMDeveloperSkillsNetworkRP0321ENSkillsNetwork25371262-2022-01-01\" target=\"_blank\">Basic Regular Expressions in R</a>\n"
      ]
    },
    {
      "cell_type": "markdown",
      "metadata": {
        "id": "Th15LkOzIv2g"
      },
      "source": [
        "# Next Steps\n"
      ]
    },
    {
      "cell_type": "markdown",
      "metadata": {
        "id": "_p_cxx2AIv2g"
      },
      "source": [
        "Great! Now you have cleaned up the bike-sharing system dataset using regular expressions. Next, you will use other `tidyverse` functions to perform data wrangling on the bike-sharing demand dataset.\n"
      ]
    },
    {
      "cell_type": "markdown",
      "metadata": {
        "id": "04kAURNAIv2h"
      },
      "source": [
        "## Authors\n",
        "\n",
        "<a href=\"https://www.linkedin.com/in/yan-luo-96288783/?utm_medium=Exinfluencer&utm_source=Exinfluencer&utm_content=000026UJ&utm_term=10006555&utm_id=NA-SkillsNetwork-Channel-SkillsNetworkCoursesIBMDeveloperSkillsNetworkRP0321ENSkillsNetwork25371262-2022-01-01\" target=\"_blank\">Yan Luo</a>\n"
      ]
    },
    {
      "cell_type": "markdown",
      "metadata": {
        "id": "n-wPrdCpIv2h"
      },
      "source": [
        "### Other Contributors\n",
        "\n",
        "Jeff Grossman\n"
      ]
    },
    {
      "cell_type": "markdown",
      "metadata": {
        "id": "MbHNUmSyIv2h"
      },
      "source": [
        "## Change Log\n",
        "\n",
        "| Date (YYYY-MM-DD) | Version | Changed By | Change Description      |\n",
        "| ----------------- | ------- | ---------- | ----------------------- |\n",
        "| 2021-04-08        | 1.0     | Yan        | Initial version created |\n",
        "|                   |         |            |                         |\n",
        "|                   |         |            |                         |\n",
        "\n",
        "## <h3 align=\"center\"> © IBM Corporation 2021. All rights reserved. <h3/>\n"
      ]
    }
  ],
  "metadata": {
    "kernelspec": {
      "display_name": "R",
      "language": "R",
      "name": "ir"
    },
    "language_info": {
      "codemirror_mode": "r",
      "file_extension": ".r",
      "mimetype": "text/x-r-source",
      "name": "R",
      "pygments_lexer": "r",
      "version": "3.6.1"
    },
    "colab": {
      "name": "lab-jupyter-data-wrangling-with-regex.ipynb",
      "provenance": [],
      "collapsed_sections": [
        "OMApTZstIv2c",
        "04kAURNAIv2h",
        "n-wPrdCpIv2h",
        "MbHNUmSyIv2h"
      ]
    }
  },
  "nbformat": 4,
  "nbformat_minor": 0
}